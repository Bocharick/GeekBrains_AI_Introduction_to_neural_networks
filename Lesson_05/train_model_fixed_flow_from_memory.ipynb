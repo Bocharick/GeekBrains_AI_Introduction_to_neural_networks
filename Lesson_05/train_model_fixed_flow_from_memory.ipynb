{
 "cells": [
  {
   "cell_type": "code",
   "execution_count": 1,
   "metadata": {},
   "outputs": [
    {
     "name": "stdout",
     "output_type": "stream",
     "text": [
      "tensorflow: 2.0.1\n",
      "tf.keras: 2.2.4-tf\n"
     ]
    }
   ],
   "source": [
    "import tensorflow as tf\n",
    "from tensorflow import keras\n",
    "from tensorflow.keras import backend as K\n",
    "\n",
    "from tensorflow.keras import regularizers\n",
    "from tensorflow.keras.layers import Input, Dense, Flatten, Dropout, Concatenate, BatchNormalization, Average, Convolution2D, MaxPooling2D, Activation, GlobalMaxPooling2D, AveragePooling2D, GlobalAveragePooling2D \n",
    "from tensorflow.keras.models import Model, Sequential\n",
    "from tensorflow.python.keras.preprocessing.image import ImageDataGenerator\n",
    "# from tensorflow.keras.preprocessing.image import ImageDataGenerator\n",
    "from tensorflow.keras.callbacks import ReduceLROnPlateau, ModelCheckpoint, EarlyStopping\n",
    "from tensorflow.keras.utils import plot_model, to_categorical, Sequence\n",
    "from tensorflow.keras import initializers\n",
    "from tensorflow.keras.applications.inception_resnet_v2 import InceptionResNetV2\n",
    "\n",
    "from sklearn.metrics import classification_report\n",
    "from itertools import tee\n",
    "\n",
    "import numpy as np\n",
    "import matplotlib.pyplot as plt\n",
    "\n",
    "print(\"tensorflow:\", tf.__version__)\n",
    "print(\"tf.keras:\", tf.keras.__version__)\n",
    "# print(tf.python.keras.preprocessing.__version__)"
   ]
  },
  {
   "cell_type": "code",
   "execution_count": 2,
   "metadata": {},
   "outputs": [],
   "source": [
    "# ssss"
   ]
  },
  {
   "cell_type": "code",
   "execution_count": 3,
   "metadata": {},
   "outputs": [],
   "source": [
    "if tf.__version__.startswith(\"1.\"):\n",
    "    val_acc_name = \"val_acc\"\n",
    "    acc_name = \"acc\"\n",
    "else:\n",
    "    tf.compat.v1.disable_eager_execution()\n",
    "    val_acc_name = \"val_accuracy\"\n",
    "    acc_name = \"accuracy\""
   ]
  },
  {
   "cell_type": "code",
   "execution_count": 4,
   "metadata": {},
   "outputs": [
    {
     "data": {
      "text/plain": [
       "'channels_last'"
      ]
     },
     "execution_count": 4,
     "metadata": {},
     "output_type": "execute_result"
    }
   ],
   "source": [
    "K.image_data_format()"
   ]
  },
  {
   "cell_type": "code",
   "execution_count": 5,
   "metadata": {},
   "outputs": [],
   "source": [
    "class_names = [\"cat\", \"dog\"]\n",
    "batch_size = 128 # 32 # 64 # 128\n",
    "image_shape = (299, 299, 3)"
   ]
  },
  {
   "cell_type": "code",
   "execution_count": 6,
   "metadata": {},
   "outputs": [],
   "source": [
    "X_train = np.load(\"X_train.npy\")\n",
    "X_valid = np.load(\"X_valid.npy\")\n",
    "X_test = np.load(\"X_test.npy\")\n",
    "\n",
    "y_train = np.load(\"y_train.npy\")\n",
    "y_valid = np.load(\"y_valid.npy\")\n",
    "y_test = np.load(\"y_test.npy\")"
   ]
  },
  {
   "cell_type": "code",
   "execution_count": 7,
   "metadata": {},
   "outputs": [],
   "source": [
    "# X_train = X_train / 255.\n",
    "# X_valid = X_valid / 255.\n",
    "# X_test = X_test / 255."
   ]
  },
  {
   "cell_type": "code",
   "execution_count": 8,
   "metadata": {},
   "outputs": [],
   "source": [
    "# X_train = X_train[:1000]\n",
    "# X_valid = X_valid[:500]\n",
    "# X_test = X_test[:300]\n",
    "\n",
    "# y_train = y_train[:1000]\n",
    "# y_valid = y_valid[:500]\n",
    "# y_test = y_test[:300]"
   ]
  },
  {
   "cell_type": "code",
   "execution_count": 9,
   "metadata": {},
   "outputs": [
    {
     "name": "stdout",
     "output_type": "stream",
     "text": [
      "X_train.shape: (17462, 299, 299, 3)\n",
      "X_valid.shape: (3742, 299, 299, 3)\n",
      "X_test.shape: (3742, 299, 299, 3)\n",
      "\n",
      "y_train.shape: (17462, 1)\n",
      "y_valid.shape: (3742, 1)\n",
      "y_test.shape: (3742, 1)\n"
     ]
    }
   ],
   "source": [
    "print(\"X_train.shape:\", str(X_train.shape))\n",
    "print(\"X_valid.shape:\", str(X_valid.shape))\n",
    "print(\"X_test.shape:\", str(X_test.shape))\n",
    "print()\n",
    "print(\"y_train.shape:\", str(y_train.shape))\n",
    "print(\"y_valid.shape:\", str(y_valid.shape))\n",
    "print(\"y_test.shape:\", str(y_test.shape))"
   ]
  },
  {
   "cell_type": "code",
   "execution_count": 10,
   "metadata": {},
   "outputs": [],
   "source": [
    "y_train = to_categorical(y_train, len(class_names))\n",
    "y_valid = to_categorical(y_valid, len(class_names))\n",
    "y_test = to_categorical(y_test, len(class_names))"
   ]
  },
  {
   "cell_type": "code",
   "execution_count": 11,
   "metadata": {},
   "outputs": [
    {
     "name": "stdout",
     "output_type": "stream",
     "text": [
      "y_train.shape: (17462, 2)\n",
      "y_valid.shape: (3742, 2)\n",
      "y_test.shape: (3742, 2)\n"
     ]
    }
   ],
   "source": [
    "print(\"y_train.shape:\", str(y_train.shape))\n",
    "print(\"y_valid.shape:\", str(y_valid.shape))\n",
    "print(\"y_test.shape:\", str(y_test.shape))"
   ]
  },
  {
   "cell_type": "code",
   "execution_count": 12,
   "metadata": {},
   "outputs": [
    {
     "name": "stdout",
     "output_type": "stream",
     "text": [
      "CPU times: user 2.31 s, sys: 46.7 s, total: 49 s\n",
      "Wall time: 49 s\n"
     ]
    }
   ],
   "source": [
    "%%time\n",
    "\n",
    "datagen_aug = ImageDataGenerator(\n",
    "    rotation_range=15,\n",
    "    width_shift_range=0.15,\n",
    "    height_shift_range=0.15,\n",
    "    horizontal_flip=True,\n",
    "    zoom_range=0.15,\n",
    "    rescale=1./255\n",
    "    )\n",
    "datagen = ImageDataGenerator(rescale=1./255)\n",
    "\n",
    "train_generator = datagen_aug.flow(X_train, y_train, batch_size=batch_size)\n",
    "valid_generator = datagen.flow(X_valid, y_valid, batch_size=batch_size)\n",
    "test_generator = datagen.flow(X_test, y_test, batch_size=batch_size, shuffle=False)\n"
   ]
  },
  {
   "cell_type": "code",
   "execution_count": 13,
   "metadata": {},
   "outputs": [],
   "source": [
    "def make_model():\n",
    "    inputs = Input(shape=image_shape, name=\"Input\")\n",
    "    base_model = InceptionResNetV2(include_top=False, \n",
    "                               input_shape=image_shape, \n",
    "                               input_tensor=inputs, \n",
    "                               weights='imagenet', \n",
    "                               classes=2)\n",
    "    base_model.trainable = False\n",
    "    batch_norm1 = BatchNormalization()(base_model.output)\n",
    "    flat1 = Flatten()(batch_norm1)\n",
    "    dense1 = Dense(100, activation=\"relu\")(flat1)\n",
    "    dense2 = Dense(len(class_names), activation=\"softmax\")(dense1)\n",
    "\n",
    "    model = Model(inputs=[inputs], outputs=[dense2])\n",
    "    model.compile(loss=\"categorical_crossentropy\", optimizer=\"adam\", metrics=[\"accuracy\"])\n",
    "    return model"
   ]
  },
  {
   "cell_type": "code",
   "execution_count": 14,
   "metadata": {},
   "outputs": [
    {
     "name": "stdout",
     "output_type": "stream",
     "text": [
      "WARNING:tensorflow:From /usr/local/lib/python3.6/dist-packages/tensorflow_core/python/ops/resource_variable_ops.py:1630: calling BaseResourceVariable.__init__ (from tensorflow.python.ops.resource_variable_ops) with constraint is deprecated and will be removed in a future version.\n",
      "Instructions for updating:\n",
      "If using Keras pass *_constraint arguments to layers.\n",
      "CPU times: user 33.3 s, sys: 2.96 s, total: 36.3 s\n",
      "Wall time: 35.3 s\n"
     ]
    }
   ],
   "source": [
    "%%time\n",
    "K.clear_session()\n",
    "\n",
    "model = make_model()\n",
    "# model.summary()"
   ]
  },
  {
   "cell_type": "code",
   "execution_count": 15,
   "metadata": {},
   "outputs": [],
   "source": [
    "# plot_model(model, to_file='model.png')"
   ]
  },
  {
   "cell_type": "code",
   "execution_count": 16,
   "metadata": {},
   "outputs": [
    {
     "name": "stdout",
     "output_type": "stream",
     "text": [
      "WARNING:tensorflow:`period` argument is deprecated. Please use `save_freq` to specify the frequency in number of samples seen.\n"
     ]
    }
   ],
   "source": [
    "checkpoint = ModelCheckpoint('cat_dogs_with_InceptionResNetV2.hdf5',\n",
    "                            monitor=val_acc_name,\n",
    "                            save_best_only=True,\n",
    "                            period=2,\n",
    "                            verbose=1)\n",
    "early_stopping_callback = EarlyStopping(monitor=val_acc_name, \n",
    "                                        min_delta=1e-6, \n",
    "                                        patience=50, \n",
    "                                        verbose=1, \n",
    "                                        mode='auto', \n",
    "                                        baseline=None, \n",
    "                                        restore_best_weights=True)\n",
    "learning_rate_reduction = ReduceLROnPlateau(monitor=val_acc_name,\n",
    "                                           patience=5,\n",
    "                                           verbose=1,\n",
    "                                           factor=0.5,\n",
    "                                           min_lr=0.00000001)"
   ]
  },
  {
   "cell_type": "code",
   "execution_count": null,
   "metadata": {},
   "outputs": [
    {
     "name": "stdout",
     "output_type": "stream",
     "text": [
      "Epoch 1/5\n",
      "136/136 [==============================] - 232s 2s/step - loss: 0.2763 - accuracy: 0.9673 - val_loss: 0.3394 - val_accuracy: 0.9569\n",
      "Epoch 2/5\n",
      "135/136 [============================>.] - ETA: 1s - loss: 0.1084 - accuracy: 0.9795\n",
      "Epoch 00002: val_accuracy improved from -inf to 0.95690, saving model to cat_dogs_with_InceptionResNetV2.hdf5\n",
      "136/136 [==============================] - 550s 4s/step - loss: 0.1082 - accuracy: 0.9794 - val_loss: 0.1872 - val_accuracy: 0.9569\n",
      "Epoch 3/5\n",
      "136/136 [==============================] - 209s 2s/step - loss: 0.0694 - accuracy: 0.9817 - val_loss: 0.1447 - val_accuracy: 0.9784\n",
      "Epoch 4/5\n",
      "135/136 [============================>.] - ETA: 1s - loss: 0.0626 - accuracy: 0.9826\n",
      "Epoch 00004: val_accuracy improved from 0.95690 to 0.97764, saving model to cat_dogs_with_InceptionResNetV2.hdf5\n",
      "136/136 [==============================] - 216s 2s/step - loss: 0.0625 - accuracy: 0.9825 - val_loss: 0.1654 - val_accuracy: 0.9776\n",
      "Epoch 5/5\n",
      " 90/136 [==================>...........] - ETA: 58s - loss: 0.0435 - accuracy: 0.9877"
     ]
    }
   ],
   "source": [
    "%%time\n",
    "            \n",
    "# Обучаем модель при помощи генератора пакетов\n",
    "history = model.fit_generator(train_generator, \n",
    "                              steps_per_epoch=train_generator.n//train_generator.batch_size, \n",
    "                              epochs=5, \n",
    "                              validation_data=valid_generator, \n",
    "                              validation_steps=valid_generator.n//valid_generator.batch_size,\n",
    "                             callbacks=[checkpoint, learning_rate_reduction, early_stopping_callback],\n",
    "                             workers=10,\n",
    "                             max_queue_size=10,\n",
    "                             use_multiprocessing=False)"
   ]
  },
  {
   "cell_type": "code",
   "execution_count": null,
   "metadata": {},
   "outputs": [],
   "source": [
    "plt.figure()\n",
    "plt.plot(history.history['loss'], label='train loss')\n",
    "plt.plot(history.history['val_loss'], label='validation loss')\n",
    "plt.xlabel('Эпоха обучения')\n",
    "plt.ylabel('Значение функции потерь')\n",
    "plt.legend()\n",
    "\n",
    "plt.figure()\n",
    "plt.plot(history.history[acc_name], label='train accuracy')\n",
    "plt.plot(history.history[val_acc_name], label='validation accuracy')\n",
    "plt.xlabel('Эпоха обучения')\n",
    "plt.ylabel('Доля верных ответов')\n",
    "plt.legend()\n",
    "\n",
    "plt.show()"
   ]
  },
  {
   "cell_type": "code",
   "execution_count": null,
   "metadata": {},
   "outputs": [],
   "source": [
    "test_generator.reset()\n",
    "model.evaluate_generator(test_generator, steps=test_generator.n//test_generator.batch_size, workers=10, max_queue_size=10, verbose=1)"
   ]
  },
  {
   "cell_type": "code",
   "execution_count": null,
   "metadata": {},
   "outputs": [],
   "source": [
    "test_steps = test_generator.n//test_generator.batch_size\n",
    "\n",
    "test_generator.reset()\n",
    "y_true = np.vstack(next(test_generator)[1] for _ in range(test_steps)).astype('int')\n",
    "\n",
    "test_generator.reset()\n",
    "y_pred = model.predict_generator(test_generator, steps=test_steps, workers=10, max_queue_size=10, verbose=1)\n",
    "\n",
    "print(\"Test data evaluation:\")\n",
    "print(classification_report(y_true.argmax(axis=1), y_pred.argmax(axis=1), target_names=class_names))"
   ]
  },
  {
   "cell_type": "code",
   "execution_count": null,
   "metadata": {},
   "outputs": [],
   "source": [
    "old_weights = model.get_weights()"
   ]
  },
  {
   "cell_type": "code",
   "execution_count": null,
   "metadata": {},
   "outputs": [],
   "source": [
    "del model\n",
    "K.clear_session()\n",
    "\n",
    "model = make_model()\n",
    "model.set_weights(old_weights)\n",
    "model.save(\"cat_dogs_with_InceptionResNetV2_WITHOUT_OPTIMIZER.hdf5\")"
   ]
  },
  {
   "cell_type": "code",
   "execution_count": null,
   "metadata": {},
   "outputs": [],
   "source": [
    "test_generator.reset()\n",
    "model.evaluate_generator(test_generator, steps=test_generator.n//test_generator.batch_size, workers=10, max_queue_size=10, verbose=1)"
   ]
  },
  {
   "cell_type": "code",
   "execution_count": null,
   "metadata": {},
   "outputs": [],
   "source": [
    "test_steps = test_generator.n//test_generator.batch_size\n",
    "\n",
    "test_generator.reset()\n",
    "y_true = np.vstack(next(test_generator)[1] for _ in range(test_steps)).astype('int')\n",
    "\n",
    "test_generator.reset()\n",
    "y_pred = model.predict_generator(test_generator, steps=test_steps, workers=10, max_queue_size=10, verbose=1)\n",
    "\n",
    "print(\"Test data evaluation:\")\n",
    "print(classification_report(y_true.argmax(axis=1), y_pred.argmax(axis=1), target_names=class_names))"
   ]
  },
  {
   "cell_type": "code",
   "execution_count": null,
   "metadata": {},
   "outputs": [],
   "source": [
    "import os"
   ]
  },
  {
   "cell_type": "code",
   "execution_count": null,
   "metadata": {},
   "outputs": [],
   "source": [
    "print(\"cat_dogs_with_InceptionResNetV2.hdf5 file size: %.3f Megabytes\" % (os.stat(\"cat_dogs_with_InceptionResNetV2.hdf5\").st_size / 1024 / 1024))"
   ]
  },
  {
   "cell_type": "code",
   "execution_count": null,
   "metadata": {},
   "outputs": [],
   "source": [
    "print(\"cat_dogs_with_InceptionResNetV2_WITHOUT_OPTIMIZER.hdf5 file size: %.3f Megabytes\" % (os.stat(\"cat_dogs_with_InceptionResNetV2_WITHOUT_OPTIMIZER.hdf5\").st_size / 1024 / 1024))"
   ]
  },
  {
   "cell_type": "code",
   "execution_count": null,
   "metadata": {},
   "outputs": [],
   "source": []
  }
 ],
 "metadata": {
  "kernelspec": {
   "display_name": "Python 3",
   "language": "python",
   "name": "python3"
  },
  "language_info": {
   "codemirror_mode": {
    "name": "ipython",
    "version": 3
   },
   "file_extension": ".py",
   "mimetype": "text/x-python",
   "name": "python",
   "nbconvert_exporter": "python",
   "pygments_lexer": "ipython3",
   "version": "3.6.9"
  }
 },
 "nbformat": 4,
 "nbformat_minor": 4
}
