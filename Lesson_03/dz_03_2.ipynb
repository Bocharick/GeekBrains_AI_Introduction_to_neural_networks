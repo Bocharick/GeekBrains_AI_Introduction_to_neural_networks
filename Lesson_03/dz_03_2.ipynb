{
 "cells": [
  {
   "cell_type": "code",
   "execution_count": 1,
   "metadata": {},
   "outputs": [
    {
     "name": "stderr",
     "output_type": "stream",
     "text": [
      "/home/bocharick/anaconda3/lib/python3.7/site-packages/tensorflow/python/framework/dtypes.py:516: FutureWarning: Passing (type, 1) or '1type' as a synonym of type is deprecated; in a future version of numpy, it will be understood as (type, (1,)) / '(1,)type'.\n",
      "  _np_qint8 = np.dtype([(\"qint8\", np.int8, 1)])\n",
      "/home/bocharick/anaconda3/lib/python3.7/site-packages/tensorflow/python/framework/dtypes.py:517: FutureWarning: Passing (type, 1) or '1type' as a synonym of type is deprecated; in a future version of numpy, it will be understood as (type, (1,)) / '(1,)type'.\n",
      "  _np_quint8 = np.dtype([(\"quint8\", np.uint8, 1)])\n",
      "/home/bocharick/anaconda3/lib/python3.7/site-packages/tensorflow/python/framework/dtypes.py:518: FutureWarning: Passing (type, 1) or '1type' as a synonym of type is deprecated; in a future version of numpy, it will be understood as (type, (1,)) / '(1,)type'.\n",
      "  _np_qint16 = np.dtype([(\"qint16\", np.int16, 1)])\n",
      "/home/bocharick/anaconda3/lib/python3.7/site-packages/tensorflow/python/framework/dtypes.py:519: FutureWarning: Passing (type, 1) or '1type' as a synonym of type is deprecated; in a future version of numpy, it will be understood as (type, (1,)) / '(1,)type'.\n",
      "  _np_quint16 = np.dtype([(\"quint16\", np.uint16, 1)])\n",
      "/home/bocharick/anaconda3/lib/python3.7/site-packages/tensorflow/python/framework/dtypes.py:520: FutureWarning: Passing (type, 1) or '1type' as a synonym of type is deprecated; in a future version of numpy, it will be understood as (type, (1,)) / '(1,)type'.\n",
      "  _np_qint32 = np.dtype([(\"qint32\", np.int32, 1)])\n",
      "/home/bocharick/anaconda3/lib/python3.7/site-packages/tensorflow/python/framework/dtypes.py:525: FutureWarning: Passing (type, 1) or '1type' as a synonym of type is deprecated; in a future version of numpy, it will be understood as (type, (1,)) / '(1,)type'.\n",
      "  np_resource = np.dtype([(\"resource\", np.ubyte, 1)])\n",
      "/home/bocharick/anaconda3/lib/python3.7/site-packages/tensorboard/compat/tensorflow_stub/dtypes.py:541: FutureWarning: Passing (type, 1) or '1type' as a synonym of type is deprecated; in a future version of numpy, it will be understood as (type, (1,)) / '(1,)type'.\n",
      "  _np_qint8 = np.dtype([(\"qint8\", np.int8, 1)])\n",
      "/home/bocharick/anaconda3/lib/python3.7/site-packages/tensorboard/compat/tensorflow_stub/dtypes.py:542: FutureWarning: Passing (type, 1) or '1type' as a synonym of type is deprecated; in a future version of numpy, it will be understood as (type, (1,)) / '(1,)type'.\n",
      "  _np_quint8 = np.dtype([(\"quint8\", np.uint8, 1)])\n",
      "/home/bocharick/anaconda3/lib/python3.7/site-packages/tensorboard/compat/tensorflow_stub/dtypes.py:543: FutureWarning: Passing (type, 1) or '1type' as a synonym of type is deprecated; in a future version of numpy, it will be understood as (type, (1,)) / '(1,)type'.\n",
      "  _np_qint16 = np.dtype([(\"qint16\", np.int16, 1)])\n",
      "/home/bocharick/anaconda3/lib/python3.7/site-packages/tensorboard/compat/tensorflow_stub/dtypes.py:544: FutureWarning: Passing (type, 1) or '1type' as a synonym of type is deprecated; in a future version of numpy, it will be understood as (type, (1,)) / '(1,)type'.\n",
      "  _np_quint16 = np.dtype([(\"quint16\", np.uint16, 1)])\n",
      "/home/bocharick/anaconda3/lib/python3.7/site-packages/tensorboard/compat/tensorflow_stub/dtypes.py:545: FutureWarning: Passing (type, 1) or '1type' as a synonym of type is deprecated; in a future version of numpy, it will be understood as (type, (1,)) / '(1,)type'.\n",
      "  _np_qint32 = np.dtype([(\"qint32\", np.int32, 1)])\n",
      "/home/bocharick/anaconda3/lib/python3.7/site-packages/tensorboard/compat/tensorflow_stub/dtypes.py:550: FutureWarning: Passing (type, 1) or '1type' as a synonym of type is deprecated; in a future version of numpy, it will be understood as (type, (1,)) / '(1,)type'.\n",
      "  np_resource = np.dtype([(\"resource\", np.ubyte, 1)])\n"
     ]
    },
    {
     "name": "stdout",
     "output_type": "stream",
     "text": [
      "1.14.0\n"
     ]
    }
   ],
   "source": [
    "import tensorflow as tf\n",
    "from tensorflow import keras\n",
    "from tensorflow.keras import backend as K\n",
    "\n",
    "from tensorflow.keras import regularizers\n",
    "from tensorflow.keras.layers import Input, Dense, Flatten, Dropout, Concatenate, BatchNormalization, Average, Convolution2D, MaxPooling2D, Activation, Embedding\n",
    "from tensorflow.keras.models import Model, Sequential\n",
    "from tensorflow.python.keras.preprocessing.image import ImageDataGenerator\n",
    "from tensorflow.keras.callbacks import ReduceLROnPlateau, ModelCheckpoint, EarlyStopping\n",
    "from tensorflow.keras.utils import plot_model\n",
    "from tensorflow.keras import initializers\n",
    "\n",
    "from tensorflow.keras import preprocessing\n",
    "\n",
    "from sklearn.metrics import classification_report\n",
    "\n",
    "import numpy as np\n",
    "import matplotlib.pyplot as plt\n",
    "\n",
    "print(tf.__version__)"
   ]
  },
  {
   "cell_type": "code",
   "execution_count": 2,
   "metadata": {},
   "outputs": [],
   "source": [
    "NUM_WORDS = 30000\n",
    "MAX_SENTENCE_LEN = 1500\n",
    "EMBEDDING_VEC_LEN = 320\n",
    "\n",
    "class_names = [\"negative\", \"positive\"]"
   ]
  },
  {
   "cell_type": "code",
   "execution_count": 3,
   "metadata": {},
   "outputs": [],
   "source": [
    "if tf.__version__.startswith(\"1.\"):\n",
    "    val_acc_name = \"val_acc\"\n",
    "    acc_name = \"acc\"\n",
    "else:\n",
    "    val_acc_name = \"val_accuracy\"\n",
    "    acc_name = \"accuracy\""
   ]
  },
  {
   "cell_type": "code",
   "execution_count": 4,
   "metadata": {},
   "outputs": [
    {
     "data": {
      "text/plain": [
       "'val_acc'"
      ]
     },
     "execution_count": 4,
     "metadata": {},
     "output_type": "execute_result"
    }
   ],
   "source": [
    "val_acc_name"
   ]
  },
  {
   "cell_type": "code",
   "execution_count": 5,
   "metadata": {},
   "outputs": [],
   "source": [
    "imdb = keras.datasets.imdb\n",
    "\n",
    "(train_x, train_y), (test_x, test_y) = imdb.load_data(num_words=NUM_WORDS)\n",
    "\n",
    "train_y = keras.utils.to_categorical(train_y, len(class_names))\n",
    "test_y = keras.utils.to_categorical(test_y, len(class_names))"
   ]
  },
  {
   "cell_type": "code",
   "execution_count": 6,
   "metadata": {},
   "outputs": [
    {
     "data": {
      "text/plain": [
       "(25000,)"
      ]
     },
     "execution_count": 6,
     "metadata": {},
     "output_type": "execute_result"
    }
   ],
   "source": [
    "train_x.shape"
   ]
  },
  {
   "cell_type": "code",
   "execution_count": 7,
   "metadata": {},
   "outputs": [
    {
     "data": {
      "text/plain": [
       "(25000, 2)"
      ]
     },
     "execution_count": 7,
     "metadata": {},
     "output_type": "execute_result"
    }
   ],
   "source": [
    "train_y.shape"
   ]
  },
  {
   "cell_type": "code",
   "execution_count": 8,
   "metadata": {},
   "outputs": [
    {
     "data": {
      "text/plain": [
       "(25000, 1500)"
      ]
     },
     "execution_count": 8,
     "metadata": {},
     "output_type": "execute_result"
    }
   ],
   "source": [
    "train_x = preprocessing.sequence.pad_sequences(sequences=train_x, maxlen=MAX_SENTENCE_LEN).reshape((len(train_x), MAX_SENTENCE_LEN))\n",
    "train_x.shape"
   ]
  },
  {
   "cell_type": "code",
   "execution_count": 9,
   "metadata": {},
   "outputs": [
    {
     "data": {
      "text/plain": [
       "(25000, 1500)"
      ]
     },
     "execution_count": 9,
     "metadata": {},
     "output_type": "execute_result"
    }
   ],
   "source": [
    "test_x = preprocessing.sequence.pad_sequences(sequences=test_x, maxlen=MAX_SENTENCE_LEN).reshape((len(test_x), MAX_SENTENCE_LEN))\n",
    "test_x.shape"
   ]
  },
  {
   "cell_type": "code",
   "execution_count": 10,
   "metadata": {},
   "outputs": [
    {
     "data": {
      "text/plain": [
       "(1500,)"
      ]
     },
     "execution_count": 10,
     "metadata": {},
     "output_type": "execute_result"
    }
   ],
   "source": [
    "train_x[0].shape"
   ]
  },
  {
   "cell_type": "code",
   "execution_count": 11,
   "metadata": {},
   "outputs": [
    {
     "data": {
      "text/plain": [
       "(2,)"
      ]
     },
     "execution_count": 11,
     "metadata": {},
     "output_type": "execute_result"
    }
   ],
   "source": [
    "train_y[0].shape"
   ]
  },
  {
   "cell_type": "code",
   "execution_count": 12,
   "metadata": {},
   "outputs": [
    {
     "name": "stdout",
     "output_type": "stream",
     "text": [
      "WARNING:tensorflow:From /home/bocharick/anaconda3/lib/python3.7/site-packages/tensorflow/python/keras/initializers.py:119: calling RandomUniform.__init__ (from tensorflow.python.ops.init_ops) with dtype is deprecated and will be removed in a future version.\n",
      "Instructions for updating:\n",
      "Call initializer instance with the dtype argument instead of passing it to the constructor\n",
      "WARNING:tensorflow:From /home/bocharick/anaconda3/lib/python3.7/site-packages/tensorflow/python/ops/init_ops.py:1251: calling VarianceScaling.__init__ (from tensorflow.python.ops.init_ops) with dtype is deprecated and will be removed in a future version.\n",
      "Instructions for updating:\n",
      "Call initializer instance with the dtype argument instead of passing it to the constructor\n",
      "Model: \"model\"\n",
      "_________________________________________________________________\n",
      "Layer (type)                 Output Shape              Param #   \n",
      "=================================================================\n",
      "Input (InputLayer)           [(None, 1500)]            0         \n",
      "_________________________________________________________________\n",
      "embedding (Embedding)        (None, 1500, 320)         9600000   \n",
      "_________________________________________________________________\n",
      "flatten (Flatten)            (None, 480000)            0         \n",
      "_________________________________________________________________\n",
      "hidden_1 (Dense)             (None, 96)                46080096  \n",
      "_________________________________________________________________\n",
      "dropout_1 (Dropout)          (None, 96)                0         \n",
      "_________________________________________________________________\n",
      "hidden_2 (Dense)             (None, 96)                9312      \n",
      "_________________________________________________________________\n",
      "dropout_2 (Dropout)          (None, 96)                0         \n",
      "_________________________________________________________________\n",
      "Output (Dense)               (None, 2)                 194       \n",
      "=================================================================\n",
      "Total params: 55,689,602\n",
      "Trainable params: 55,689,602\n",
      "Non-trainable params: 0\n",
      "_________________________________________________________________\n",
      "None\n"
     ]
    }
   ],
   "source": [
    "tf.keras.backend.clear_session()\n",
    "\n",
    "DROPOUT_RATE = 0.25\n",
    "DENSE_SIZE = 96\n",
    "\n",
    "inputs = Input(shape=(MAX_SENTENCE_LEN), name=\"Input\")\n",
    "embed = Embedding(input_dim=NUM_WORDS, output_dim=EMBEDDING_VEC_LEN, input_length=MAX_SENTENCE_LEN)(inputs)\n",
    "flat = Flatten()(embed)\n",
    "\n",
    "h_1 = Dense(DENSE_SIZE, activation='relu', name=\"hidden_1\")(flat)\n",
    "drop_1 = Dropout(DROPOUT_RATE, name=\"dropout_1\")(h_1)\n",
    "\n",
    "h_2 = Dense(DENSE_SIZE, activation='relu', name=\"hidden_2\")(drop_1)\n",
    "drop_2 = Dropout(DROPOUT_RATE, name=\"dropout_2\")(h_2)\n",
    "\n",
    "predictions = Dense(len(class_names), activation='softmax', name=\"Output\")(drop_2)\n",
    "\n",
    "model = Model(inputs=inputs, outputs=predictions)\n",
    "model.compile(optimizer='adam', loss='categorical_crossentropy', metrics=['accuracy'])\n",
    "print(model.summary())"
   ]
  },
  {
   "cell_type": "code",
   "execution_count": 13,
   "metadata": {},
   "outputs": [
    {
     "data": {
      "image/png": "[encoded data removed]",
      "text/plain": [
       "<IPython.core.display.Image object>"
      ]
     },
     "execution_count": 13,
     "metadata": {},
     "output_type": "execute_result"
    }
   ],
   "source": [
    "plot_model(model)"
   ]
  },
  {
   "cell_type": "code",
   "execution_count": 14,
   "metadata": {},
   "outputs": [
    {
     "name": "stdout",
     "output_type": "stream",
     "text": [
      "WARNING:tensorflow:`period` argument is deprecated. Please use `save_freq` to specify the frequency in number of samples seen.\n"
     ]
    }
   ],
   "source": [
    "checkpoint = ModelCheckpoint('imdb_base.hdf5',\n",
    "                            monitor=val_acc_name,\n",
    "                            save_best_only=True,\n",
    "                            period=5,\n",
    "                            verbose=1)\n",
    "early_stopping_callback = EarlyStopping(monitor=val_acc_name, \n",
    "                                        min_delta=1e-9, \n",
    "                                        patience=50, \n",
    "                                        verbose=1, \n",
    "                                        mode='auto', \n",
    "                                        baseline=None, \n",
    "                                        restore_best_weights=True)\n",
    "learning_rate_reduction = ReduceLROnPlateau(monitor=val_acc_name,\n",
    "                                           patience=5,\n",
    "                                           verbose=1,\n",
    "                                           factor=0.5,\n",
    "                                           min_lr=0.00000001)"
   ]
  },
  {
   "cell_type": "code",
   "execution_count": 15,
   "metadata": {},
   "outputs": [
    {
     "name": "stdout",
     "output_type": "stream",
     "text": [
      "Train on 25000 samples, validate on 25000 samples\n",
      "Epoch 1/10000000000\n",
      "25000/25000 [==============================] - 8s 302us/sample - loss: 1.1212 - acc: 0.5022 - val_loss: 0.6931 - val_acc: 0.5000\n",
      "Epoch 2/10000000000\n",
      "25000/25000 [==============================] - 7s 292us/sample - loss: 0.6928 - acc: 0.4971 - val_loss: 0.6931 - val_acc: 0.5002\n",
      "Epoch 3/10000000000\n",
      "25000/25000 [==============================] - 7s 284us/sample - loss: 0.6923 - acc: 0.4996 - val_loss: 0.6930 - val_acc: 0.5012\n",
      "Epoch 4/10000000000\n",
      "25000/25000 [==============================] - 7s 293us/sample - loss: 0.6905 - acc: 0.5040 - val_loss: 0.6897 - val_acc: 0.5026\n",
      "Epoch 5/10000000000\n",
      "24832/25000 [============================>.] - ETA: 0s - loss: 0.5317 - acc: 0.7326\n",
      "Epoch 00005: val_acc improved from -inf to 0.87548, saving model to imdb_base.hdf5\n",
      "25000/25000 [==============================] - 13s 507us/sample - loss: 0.5306 - acc: 0.7335 - val_loss: 0.3005 - val_acc: 0.8755\n",
      "Epoch 6/10000000000\n",
      "25000/25000 [==============================] - 7s 296us/sample - loss: 0.2121 - acc: 0.9203 - val_loss: 0.3032 - val_acc: 0.8785\n",
      "Epoch 7/10000000000\n",
      "25000/25000 [==============================] - 7s 289us/sample - loss: 0.0565 - acc: 0.9822 - val_loss: 0.4592 - val_acc: 0.8772\n",
      "Epoch 8/10000000000\n",
      "25000/25000 [==============================] - 7s 283us/sample - loss: 0.0123 - acc: 0.9968 - val_loss: 0.6268 - val_acc: 0.8752\n",
      "Epoch 9/10000000000\n",
      "25000/25000 [==============================] - 7s 288us/sample - loss: 0.0036 - acc: 0.9990 - val_loss: 0.8070 - val_acc: 0.8756\n",
      "Epoch 10/10000000000\n",
      "24832/25000 [============================>.] - ETA: 0s - loss: 0.0022 - acc: 0.9992\n",
      "Epoch 00010: val_acc did not improve from 0.87548\n",
      "25000/25000 [==============================] - 7s 281us/sample - loss: 0.0022 - acc: 0.9992 - val_loss: 0.7914 - val_acc: 0.8745\n",
      "Epoch 11/10000000000\n",
      "24832/25000 [============================>.] - ETA: 0s - loss: 0.0013 - acc: 0.9997\n",
      "Epoch 00011: ReduceLROnPlateau reducing learning rate to 0.0005000000237487257.\n",
      "25000/25000 [==============================] - 7s 284us/sample - loss: 0.0013 - acc: 0.9997 - val_loss: 0.8308 - val_acc: 0.8737\n",
      "Epoch 12/10000000000\n",
      "25000/25000 [==============================] - 7s 289us/sample - loss: 8.7096e-04 - acc: 0.9998 - val_loss: 0.9040 - val_acc: 0.8748\n",
      "Epoch 13/10000000000\n",
      "25000/25000 [==============================] - 7s 289us/sample - loss: 0.0011 - acc: 0.9998 - val_loss: 0.8635 - val_acc: 0.8751\n",
      "Epoch 14/10000000000\n",
      "25000/25000 [==============================] - 7s 289us/sample - loss: 3.2183e-04 - acc: 0.9999 - val_loss: 1.0764 - val_acc: 0.8741\n",
      "Epoch 15/10000000000\n",
      "24832/25000 [============================>.] - ETA: 0s - loss: 8.9730e-04 - acc: 0.9999\n",
      "Epoch 00015: val_acc did not improve from 0.87548\n",
      "25000/25000 [==============================] - 7s 290us/sample - loss: 8.9193e-04 - acc: 0.9999 - val_loss: 1.0613 - val_acc: 0.8748\n",
      "Epoch 16/10000000000\n",
      "24832/25000 [============================>.] - ETA: 0s - loss: 3.9141e-04 - acc: 1.0000\n",
      "Epoch 00016: ReduceLROnPlateau reducing learning rate to 0.0002500000118743628.\n",
      "25000/25000 [==============================] - 7s 293us/sample - loss: 3.9261e-04 - acc: 1.0000 - val_loss: 0.9780 - val_acc: 0.8758\n",
      "Epoch 17/10000000000\n",
      "25000/25000 [==============================] - 7s 288us/sample - loss: 1.6397e-04 - acc: 1.0000 - val_loss: 1.0760 - val_acc: 0.8745\n",
      "Epoch 18/10000000000\n",
      "25000/25000 [==============================] - 7s 285us/sample - loss: 1.8854e-04 - acc: 1.0000 - val_loss: 1.1254 - val_acc: 0.8741\n",
      "Epoch 19/10000000000\n",
      "25000/25000 [==============================] - 7s 288us/sample - loss: 2.7683e-04 - acc: 0.9999 - val_loss: 1.0686 - val_acc: 0.8756\n",
      "Epoch 20/10000000000\n",
      "24832/25000 [============================>.] - ETA: 0s - loss: 1.8876e-04 - acc: 0.9999\n",
      "Epoch 00020: val_acc did not improve from 0.87548\n",
      "25000/25000 [==============================] - 7s 283us/sample - loss: 1.8763e-04 - acc: 0.9999 - val_loss: 1.0846 - val_acc: 0.8754\n",
      "Epoch 21/10000000000\n",
      "24832/25000 [============================>.] - ETA: 0s - loss: 9.5869e-05 - acc: 1.0000\n",
      "Epoch 00021: ReduceLROnPlateau reducing learning rate to 0.0001250000059371814.\n",
      "25000/25000 [==============================] - 7s 288us/sample - loss: 9.5378e-05 - acc: 1.0000 - val_loss: 1.1364 - val_acc: 0.8750\n",
      "Epoch 22/10000000000\n",
      "25000/25000 [==============================] - 7s 292us/sample - loss: 1.6064e-04 - acc: 1.0000 - val_loss: 1.1025 - val_acc: 0.8753\n",
      "Epoch 23/10000000000\n",
      "25000/25000 [==============================] - 7s 289us/sample - loss: 6.8695e-05 - acc: 1.0000 - val_loss: 1.1405 - val_acc: 0.8754\n",
      "Epoch 24/10000000000\n",
      "25000/25000 [==============================] - 7s 288us/sample - loss: 1.7485e-04 - acc: 1.0000 - val_loss: 1.1057 - val_acc: 0.8759\n",
      "Epoch 25/10000000000\n",
      "24832/25000 [============================>.] - ETA: 0s - loss: 8.7964e-05 - acc: 1.0000\n",
      "Epoch 00025: val_acc did not improve from 0.87548\n",
      "25000/25000 [==============================] - 7s 296us/sample - loss: 8.8414e-05 - acc: 1.0000 - val_loss: 1.1213 - val_acc: 0.8749\n",
      "Epoch 26/10000000000\n",
      "24832/25000 [============================>.] - ETA: 0s - loss: 1.1501e-04 - acc: 1.0000\n",
      "Epoch 00026: ReduceLROnPlateau reducing learning rate to 6.25000029685907e-05.\n",
      "25000/25000 [==============================] - 7s 298us/sample - loss: 1.1443e-04 - acc: 1.0000 - val_loss: 1.1191 - val_acc: 0.8756\n",
      "Epoch 27/10000000000\n",
      "25000/25000 [==============================] - 7s 298us/sample - loss: 1.0629e-04 - acc: 1.0000 - val_loss: 1.1144 - val_acc: 0.8754\n",
      "Epoch 28/10000000000\n",
      "25000/25000 [==============================] - 7s 298us/sample - loss: 2.2047e-04 - acc: 0.9999 - val_loss: 1.0614 - val_acc: 0.8755\n",
      "Epoch 29/10000000000\n",
      "25000/25000 [==============================] - 7s 293us/sample - loss: 1.2310e-04 - acc: 1.0000 - val_loss: 1.0878 - val_acc: 0.8750\n",
      "Epoch 30/10000000000\n",
      "24832/25000 [============================>.] - ETA: 0s - loss: 8.4953e-05 - acc: 1.0000\n",
      "Epoch 00030: val_acc did not improve from 0.87548\n",
      "25000/25000 [==============================] - 7s 287us/sample - loss: 8.4432e-05 - acc: 1.0000 - val_loss: 1.0940 - val_acc: 0.8751\n",
      "Epoch 31/10000000000\n",
      "24832/25000 [============================>.] - ETA: 0s - loss: 1.1538e-04 - acc: 1.0000\n",
      "Epoch 00031: ReduceLROnPlateau reducing learning rate to 3.125000148429535e-05.\n",
      "25000/25000 [==============================] - 7s 284us/sample - loss: 1.1510e-04 - acc: 1.0000 - val_loss: 1.1011 - val_acc: 0.8755\n",
      "Epoch 32/10000000000\n",
      "25000/25000 [==============================] - 7s 285us/sample - loss: 4.6326e-05 - acc: 1.0000 - val_loss: 1.1172 - val_acc: 0.8752\n",
      "Epoch 33/10000000000\n",
      "25000/25000 [==============================] - 7s 298us/sample - loss: 8.8513e-05 - acc: 1.0000 - val_loss: 1.1191 - val_acc: 0.8754\n",
      "Epoch 34/10000000000\n",
      "25000/25000 [==============================] - 7s 292us/sample - loss: 2.7585e-04 - acc: 1.0000 - val_loss: 1.1142 - val_acc: 0.8756\n",
      "Epoch 35/10000000000\n",
      "24832/25000 [============================>.] - ETA: 0s - loss: 6.0835e-05 - acc: 1.0000\n",
      "Epoch 00035: val_acc did not improve from 0.87548\n",
      "25000/25000 [==============================] - 7s 292us/sample - loss: 6.2307e-05 - acc: 1.0000 - val_loss: 1.1327 - val_acc: 0.8752\n",
      "Epoch 36/10000000000\n",
      "24832/25000 [============================>.] - ETA: 0s - loss: 1.4744e-04 - acc: 1.0000\n",
      "Epoch 00036: ReduceLROnPlateau reducing learning rate to 1.5625000742147677e-05.\n",
      "25000/25000 [==============================] - 7s 284us/sample - loss: 1.4649e-04 - acc: 1.0000 - val_loss: 1.1205 - val_acc: 0.8753\n",
      "Epoch 37/10000000000\n",
      "25000/25000 [==============================] - 7s 283us/sample - loss: 2.3074e-04 - acc: 0.9999 - val_loss: 1.1376 - val_acc: 0.8751\n",
      "Epoch 38/10000000000\n",
      "25000/25000 [==============================] - 7s 289us/sample - loss: 5.1868e-05 - acc: 1.0000 - val_loss: 1.1418 - val_acc: 0.8751\n",
      "Epoch 39/10000000000\n",
      "25000/25000 [==============================] - 7s 295us/sample - loss: 4.0938e-05 - acc: 1.0000 - val_loss: 1.1460 - val_acc: 0.8752\n",
      "Epoch 40/10000000000\n",
      "24832/25000 [============================>.] - ETA: 0s - loss: 9.7401e-05 - acc: 1.0000\n",
      "Epoch 00040: val_acc improved from 0.87548 to 0.87576, saving model to imdb_base.hdf5\n",
      "25000/25000 [==============================] - 13s 520us/sample - loss: 9.6870e-05 - acc: 1.0000 - val_loss: 1.1248 - val_acc: 0.8758\n"
     ]
    },
    {
     "name": "stdout",
     "output_type": "stream",
     "text": [
      "Epoch 41/10000000000\n",
      "24832/25000 [============================>.] - ETA: 0s - loss: 6.4814e-05 - acc: 1.0000\n",
      "Epoch 00041: ReduceLROnPlateau reducing learning rate to 7.812500371073838e-06.\n",
      "25000/25000 [==============================] - 7s 296us/sample - loss: 6.7054e-05 - acc: 1.0000 - val_loss: 1.1311 - val_acc: 0.8753\n",
      "Epoch 42/10000000000\n",
      "25000/25000 [==============================] - 7s 294us/sample - loss: 3.1778e-05 - acc: 1.0000 - val_loss: 1.1360 - val_acc: 0.8754\n",
      "Epoch 43/10000000000\n",
      "25000/25000 [==============================] - 7s 287us/sample - loss: 4.9055e-05 - acc: 1.0000 - val_loss: 1.1419 - val_acc: 0.8754\n",
      "Epoch 44/10000000000\n",
      "25000/25000 [==============================] - 7s 287us/sample - loss: 6.3059e-05 - acc: 1.0000 - val_loss: 1.1443 - val_acc: 0.8752\n",
      "Epoch 45/10000000000\n",
      "24832/25000 [============================>.] - ETA: 0s - loss: 5.2034e-05 - acc: 1.0000\n",
      "Epoch 00045: val_acc did not improve from 0.87576\n",
      "25000/25000 [==============================] - 7s 293us/sample - loss: 5.1763e-05 - acc: 1.0000 - val_loss: 1.1441 - val_acc: 0.8750\n",
      "Epoch 46/10000000000\n",
      "24832/25000 [============================>.] - ETA: 0s - loss: 5.2402e-05 - acc: 1.0000\n",
      "Epoch 00046: ReduceLROnPlateau reducing learning rate to 3.906250185536919e-06.\n",
      "25000/25000 [==============================] - 7s 290us/sample - loss: 5.2098e-05 - acc: 1.0000 - val_loss: 1.1494 - val_acc: 0.8751\n",
      "Epoch 47/10000000000\n",
      "25000/25000 [==============================] - 7s 291us/sample - loss: 5.5317e-05 - acc: 1.0000 - val_loss: 1.1504 - val_acc: 0.8752\n",
      "Epoch 48/10000000000\n",
      "25000/25000 [==============================] - 7s 293us/sample - loss: 5.8512e-05 - acc: 1.0000 - val_loss: 1.1485 - val_acc: 0.8751\n",
      "Epoch 49/10000000000\n",
      "25000/25000 [==============================] - 7s 296us/sample - loss: 6.9963e-05 - acc: 1.0000 - val_loss: 1.1501 - val_acc: 0.8750\n",
      "Epoch 50/10000000000\n",
      "24832/25000 [============================>.] - ETA: 0s - loss: 7.6683e-05 - acc: 1.0000\n",
      "Epoch 00050: val_acc did not improve from 0.87576\n",
      "25000/25000 [==============================] - 7s 300us/sample - loss: 7.6758e-05 - acc: 1.0000 - val_loss: 1.1514 - val_acc: 0.8750\n",
      "Epoch 51/10000000000\n",
      "24832/25000 [============================>.] - ETA: 0s - loss: 4.1103e-05 - acc: 1.0000\n",
      "Epoch 00051: ReduceLROnPlateau reducing learning rate to 1.9531250927684596e-06.\n",
      "25000/25000 [==============================] - 7s 299us/sample - loss: 4.0841e-05 - acc: 1.0000 - val_loss: 1.1538 - val_acc: 0.8751\n",
      "Epoch 52/10000000000\n",
      "25000/25000 [==============================] - 7s 296us/sample - loss: 6.6311e-05 - acc: 1.0000 - val_loss: 1.1526 - val_acc: 0.8751\n",
      "Epoch 53/10000000000\n",
      "25000/25000 [==============================] - 7s 296us/sample - loss: 6.7937e-05 - acc: 1.0000 - val_loss: 1.1553 - val_acc: 0.8751\n",
      "Epoch 54/10000000000\n",
      "25000/25000 [==============================] - 7s 297us/sample - loss: 5.7901e-05 - acc: 1.0000 - val_loss: 1.1545 - val_acc: 0.8751\n",
      "Epoch 55/10000000000\n",
      "24832/25000 [============================>.] - ETA: 0s - loss: 2.3625e-04 - acc: 0.9999\n",
      "Epoch 00055: val_acc did not improve from 0.87576\n",
      "25000/25000 [==============================] - 7s 295us/sample - loss: 2.3469e-04 - acc: 0.9999 - val_loss: 1.1548 - val_acc: 0.8750\n",
      "Epoch 56/10000000000\n",
      "24832/25000 [============================>.] - ETA: 0s - loss: 4.7196e-05 - acc: 1.0000\n",
      "Epoch 00056: ReduceLROnPlateau reducing learning rate to 9.765625463842298e-07.\n",
      "Restoring model weights from the end of the best epoch.\n",
      "25000/25000 [==============================] - 7s 297us/sample - loss: 4.6915e-05 - acc: 1.0000 - val_loss: 1.1563 - val_acc: 0.8750\n",
      "Epoch 00056: early stopping\n",
      "CPU times: user 4min 16s, sys: 42.2 s, total: 4min 58s\n",
      "Wall time: 7min\n"
     ]
    }
   ],
   "source": [
    "%%time\n",
    "BATCH_SIZE = 256\n",
    "EPOCHS = 10000000000\n",
    "history = model.fit(x=train_x, y=train_y, batch_size=BATCH_SIZE,\n",
    "                   epochs = EPOCHS,\n",
    "                   validation_data=(test_x, test_y),\n",
    "                   verbose=1,\n",
    "                   callbacks=[checkpoint, learning_rate_reduction, early_stopping_callback])"
   ]
  },
  {
   "cell_type": "code",
   "execution_count": 16,
   "metadata": {},
   "outputs": [
    {
     "data": {
      "image/png": "[encoded data removed]",
      "text/plain": [
       "<Figure size 432x288 with 1 Axes>"
      ]
     },
     "metadata": {
      "needs_background": "light"
     },
     "output_type": "display_data"
    },
    {
     "data": {
      "image/png": "[encoded data removed]",
      "text/plain": [
       "<Figure size 432x288 with 1 Axes>"
      ]
     },
     "metadata": {
      "needs_background": "light"
     },
     "output_type": "display_data"
    }
   ],
   "source": [
    "plt.figure()\n",
    "plt.plot(history.history['loss'], label='train loss')\n",
    "plt.plot(history.history['val_loss'], label='validation loss')\n",
    "plt.xlabel('Эпоха обучения')\n",
    "plt.ylabel('Значение функции потерь')\n",
    "plt.legend()\n",
    "\n",
    "plt.figure()\n",
    "plt.plot(history.history[acc_name], label='train accuracy')\n",
    "plt.plot(history.history[val_acc_name], label='validation accuracy')\n",
    "plt.xlabel('Эпоха обучения')\n",
    "plt.ylabel('Доля верных ответов')\n",
    "plt.legend()\n",
    "\n",
    "plt.show()"
   ]
  },
  {
   "cell_type": "code",
   "execution_count": 17,
   "metadata": {},
   "outputs": [
    {
     "name": "stdout",
     "output_type": "stream",
     "text": [
      "25000/25000 [==============================] - 2s 96us/sample - loss: 0.3032 - acc: 0.8785\n"
     ]
    },
    {
     "data": {
      "text/plain": [
       "[0.30320246502399445, 0.87852]"
      ]
     },
     "execution_count": 17,
     "metadata": {},
     "output_type": "execute_result"
    }
   ],
   "source": [
    "model.evaluate(test_x, test_y)"
   ]
  },
  {
   "cell_type": "code",
   "execution_count": 18,
   "metadata": {},
   "outputs": [
    {
     "name": "stdout",
     "output_type": "stream",
     "text": [
      "Test data evaluation:\n",
      "              precision    recall  f1-score   support\n",
      "\n",
      "    negative       0.87      0.90      0.88     12500\n",
      "    positive       0.89      0.86      0.88     12500\n",
      "\n",
      "    accuracy                           0.88     25000\n",
      "   macro avg       0.88      0.88      0.88     25000\n",
      "weighted avg       0.88      0.88      0.88     25000\n",
      "\n"
     ]
    }
   ],
   "source": [
    "preds = model.predict(test_x)\n",
    "\n",
    "print(\"Test data evaluation:\")\n",
    "print(classification_report(test_y.argmax(axis=1), preds.argmax(axis=1), target_names=class_names))"
   ]
  },
  {
   "cell_type": "code",
   "execution_count": null,
   "metadata": {},
   "outputs": [],
   "source": []
  },
  {
   "cell_type": "code",
   "execution_count": null,
   "metadata": {},
   "outputs": [],
   "source": []
  }
 ],
 "metadata": {
  "kernelspec": {
   "display_name": "Python 3",
   "language": "python",
   "name": "python3"
  },
  "language_info": {
   "codemirror_mode": {
    "name": "ipython",
    "version": 3
   },
   "file_extension": ".py",
   "mimetype": "text/x-python",
   "name": "python",
   "nbconvert_exporter": "python",
   "pygments_lexer": "ipython3",
   "version": "3.7.4"
  }
 },
 "nbformat": 4,
 "nbformat_minor": 2
}
