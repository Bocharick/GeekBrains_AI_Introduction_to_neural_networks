{
 "cells": [
  {
   "cell_type": "code",
   "execution_count": 1,
   "metadata": {},
   "outputs": [
    {
     "name": "stderr",
     "output_type": "stream",
     "text": [
      "/home/bocharick/anaconda3/lib/python3.7/site-packages/tensorflow/python/framework/dtypes.py:516: FutureWarning: Passing (type, 1) or '1type' as a synonym of type is deprecated; in a future version of numpy, it will be understood as (type, (1,)) / '(1,)type'.\n",
      "  _np_qint8 = np.dtype([(\"qint8\", np.int8, 1)])\n",
      "/home/bocharick/anaconda3/lib/python3.7/site-packages/tensorflow/python/framework/dtypes.py:517: FutureWarning: Passing (type, 1) or '1type' as a synonym of type is deprecated; in a future version of numpy, it will be understood as (type, (1,)) / '(1,)type'.\n",
      "  _np_quint8 = np.dtype([(\"quint8\", np.uint8, 1)])\n",
      "/home/bocharick/anaconda3/lib/python3.7/site-packages/tensorflow/python/framework/dtypes.py:518: FutureWarning: Passing (type, 1) or '1type' as a synonym of type is deprecated; in a future version of numpy, it will be understood as (type, (1,)) / '(1,)type'.\n",
      "  _np_qint16 = np.dtype([(\"qint16\", np.int16, 1)])\n",
      "/home/bocharick/anaconda3/lib/python3.7/site-packages/tensorflow/python/framework/dtypes.py:519: FutureWarning: Passing (type, 1) or '1type' as a synonym of type is deprecated; in a future version of numpy, it will be understood as (type, (1,)) / '(1,)type'.\n",
      "  _np_quint16 = np.dtype([(\"quint16\", np.uint16, 1)])\n",
      "/home/bocharick/anaconda3/lib/python3.7/site-packages/tensorflow/python/framework/dtypes.py:520: FutureWarning: Passing (type, 1) or '1type' as a synonym of type is deprecated; in a future version of numpy, it will be understood as (type, (1,)) / '(1,)type'.\n",
      "  _np_qint32 = np.dtype([(\"qint32\", np.int32, 1)])\n",
      "/home/bocharick/anaconda3/lib/python3.7/site-packages/tensorflow/python/framework/dtypes.py:525: FutureWarning: Passing (type, 1) or '1type' as a synonym of type is deprecated; in a future version of numpy, it will be understood as (type, (1,)) / '(1,)type'.\n",
      "  np_resource = np.dtype([(\"resource\", np.ubyte, 1)])\n",
      "/home/bocharick/anaconda3/lib/python3.7/site-packages/tensorboard/compat/tensorflow_stub/dtypes.py:541: FutureWarning: Passing (type, 1) or '1type' as a synonym of type is deprecated; in a future version of numpy, it will be understood as (type, (1,)) / '(1,)type'.\n",
      "  _np_qint8 = np.dtype([(\"qint8\", np.int8, 1)])\n",
      "/home/bocharick/anaconda3/lib/python3.7/site-packages/tensorboard/compat/tensorflow_stub/dtypes.py:542: FutureWarning: Passing (type, 1) or '1type' as a synonym of type is deprecated; in a future version of numpy, it will be understood as (type, (1,)) / '(1,)type'.\n",
      "  _np_quint8 = np.dtype([(\"quint8\", np.uint8, 1)])\n",
      "/home/bocharick/anaconda3/lib/python3.7/site-packages/tensorboard/compat/tensorflow_stub/dtypes.py:543: FutureWarning: Passing (type, 1) or '1type' as a synonym of type is deprecated; in a future version of numpy, it will be understood as (type, (1,)) / '(1,)type'.\n",
      "  _np_qint16 = np.dtype([(\"qint16\", np.int16, 1)])\n",
      "/home/bocharick/anaconda3/lib/python3.7/site-packages/tensorboard/compat/tensorflow_stub/dtypes.py:544: FutureWarning: Passing (type, 1) or '1type' as a synonym of type is deprecated; in a future version of numpy, it will be understood as (type, (1,)) / '(1,)type'.\n",
      "  _np_quint16 = np.dtype([(\"quint16\", np.uint16, 1)])\n",
      "/home/bocharick/anaconda3/lib/python3.7/site-packages/tensorboard/compat/tensorflow_stub/dtypes.py:545: FutureWarning: Passing (type, 1) or '1type' as a synonym of type is deprecated; in a future version of numpy, it will be understood as (type, (1,)) / '(1,)type'.\n",
      "  _np_qint32 = np.dtype([(\"qint32\", np.int32, 1)])\n",
      "/home/bocharick/anaconda3/lib/python3.7/site-packages/tensorboard/compat/tensorflow_stub/dtypes.py:550: FutureWarning: Passing (type, 1) or '1type' as a synonym of type is deprecated; in a future version of numpy, it will be understood as (type, (1,)) / '(1,)type'.\n",
      "  np_resource = np.dtype([(\"resource\", np.ubyte, 1)])\n"
     ]
    },
    {
     "name": "stdout",
     "output_type": "stream",
     "text": [
      "1.14.0\n"
     ]
    }
   ],
   "source": [
    "import tensorflow as tf\n",
    "from tensorflow import keras\n",
    "from tensorflow.keras import backend as K\n",
    "\n",
    "from tensorflow.keras import regularizers\n",
    "from tensorflow.keras.layers import Input, Dense, Flatten, Dropout, Concatenate, BatchNormalization, Average, Convolution2D, MaxPooling2D, Activation, Embedding\n",
    "from tensorflow.keras.models import Model, Sequential\n",
    "from tensorflow.python.keras.preprocessing.image import ImageDataGenerator\n",
    "from tensorflow.keras.callbacks import ReduceLROnPlateau, ModelCheckpoint, EarlyStopping\n",
    "from tensorflow.keras.utils import plot_model\n",
    "from tensorflow.keras import initializers\n",
    "\n",
    "from tensorflow.keras import preprocessing\n",
    "\n",
    "from sklearn.metrics import classification_report\n",
    "\n",
    "import numpy as np\n",
    "import matplotlib.pyplot as plt\n",
    "\n",
    "print(tf.__version__)"
   ]
  },
  {
   "cell_type": "code",
   "execution_count": 2,
   "metadata": {},
   "outputs": [],
   "source": [
    "NUM_WORDS = 30000\n",
    "MAX_SENTENCE_LEN = 1500\n",
    "EMBEDDING_VEC_LEN = 320\n",
    "\n",
    "class_names = [\"negative\", \"positive\"]"
   ]
  },
  {
   "cell_type": "code",
   "execution_count": 3,
   "metadata": {},
   "outputs": [],
   "source": [
    "if tf.__version__.startswith(\"1.\"):\n",
    "    val_acc_name = \"val_acc\"\n",
    "    acc_name = \"acc\"\n",
    "else:\n",
    "    val_acc_name = \"val_accuracy\"\n",
    "    acc_name = \"accuracy\""
   ]
  },
  {
   "cell_type": "code",
   "execution_count": 4,
   "metadata": {},
   "outputs": [],
   "source": [
    "imdb = keras.datasets.imdb\n",
    "\n",
    "(train_x, train_y), (test_x, test_y) = imdb.load_data(num_words=NUM_WORDS)\n",
    "\n",
    "train_y = keras.utils.to_categorical(train_y, len(class_names))\n",
    "test_y = keras.utils.to_categorical(test_y, len(class_names))"
   ]
  },
  {
   "cell_type": "code",
   "execution_count": 5,
   "metadata": {},
   "outputs": [
    {
     "data": {
      "text/plain": [
       "(25000,)"
      ]
     },
     "execution_count": 5,
     "metadata": {},
     "output_type": "execute_result"
    }
   ],
   "source": [
    "train_x.shape"
   ]
  },
  {
   "cell_type": "code",
   "execution_count": 6,
   "metadata": {},
   "outputs": [
    {
     "data": {
      "text/plain": [
       "(25000, 2)"
      ]
     },
     "execution_count": 6,
     "metadata": {},
     "output_type": "execute_result"
    }
   ],
   "source": [
    "train_y.shape"
   ]
  },
  {
   "cell_type": "code",
   "execution_count": 7,
   "metadata": {},
   "outputs": [
    {
     "data": {
      "text/plain": [
       "(25000, 1500)"
      ]
     },
     "execution_count": 7,
     "metadata": {},
     "output_type": "execute_result"
    }
   ],
   "source": [
    "train_x = preprocessing.sequence.pad_sequences(sequences=train_x, maxlen=MAX_SENTENCE_LEN).reshape((len(train_x), MAX_SENTENCE_LEN))\n",
    "train_x.shape"
   ]
  },
  {
   "cell_type": "code",
   "execution_count": 8,
   "metadata": {},
   "outputs": [
    {
     "data": {
      "text/plain": [
       "(25000, 1500)"
      ]
     },
     "execution_count": 8,
     "metadata": {},
     "output_type": "execute_result"
    }
   ],
   "source": [
    "test_x = preprocessing.sequence.pad_sequences(sequences=test_x, maxlen=MAX_SENTENCE_LEN).reshape((len(test_x), MAX_SENTENCE_LEN))\n",
    "test_x.shape"
   ]
  },
  {
   "cell_type": "code",
   "execution_count": 9,
   "metadata": {},
   "outputs": [
    {
     "data": {
      "text/plain": [
       "(1500,)"
      ]
     },
     "execution_count": 9,
     "metadata": {},
     "output_type": "execute_result"
    }
   ],
   "source": [
    "train_x[0].shape"
   ]
  },
  {
   "cell_type": "code",
   "execution_count": 10,
   "metadata": {},
   "outputs": [
    {
     "data": {
      "text/plain": [
       "(2,)"
      ]
     },
     "execution_count": 10,
     "metadata": {},
     "output_type": "execute_result"
    }
   ],
   "source": [
    "train_y[0].shape"
   ]
  },
  {
   "cell_type": "code",
   "execution_count": 11,
   "metadata": {},
   "outputs": [
    {
     "name": "stdout",
     "output_type": "stream",
     "text": [
      "WARNING:tensorflow:From /home/bocharick/anaconda3/lib/python3.7/site-packages/tensorflow/python/keras/initializers.py:119: calling RandomUniform.__init__ (from tensorflow.python.ops.init_ops) with dtype is deprecated and will be removed in a future version.\n",
      "Instructions for updating:\n",
      "Call initializer instance with the dtype argument instead of passing it to the constructor\n",
      "WARNING:tensorflow:From /home/bocharick/anaconda3/lib/python3.7/site-packages/tensorflow/python/ops/init_ops.py:1251: calling VarianceScaling.__init__ (from tensorflow.python.ops.init_ops) with dtype is deprecated and will be removed in a future version.\n",
      "Instructions for updating:\n",
      "Call initializer instance with the dtype argument instead of passing it to the constructor\n",
      "Model: \"model\"\n",
      "_________________________________________________________________\n",
      "Layer (type)                 Output Shape              Param #   \n",
      "=================================================================\n",
      "Input (InputLayer)           [(None, 1500)]            0         \n",
      "_________________________________________________________________\n",
      "embedding (Embedding)        (None, 1500, 320)         480000    \n",
      "_________________________________________________________________\n",
      "flatten (Flatten)            (None, 480000)            0         \n",
      "_________________________________________________________________\n",
      "hidden_1 (Dense)             (None, 96)                46080096  \n",
      "_________________________________________________________________\n",
      "dropout_1 (Dropout)          (None, 96)                0         \n",
      "_________________________________________________________________\n",
      "hidden_2 (Dense)             (None, 96)                9312      \n",
      "_________________________________________________________________\n",
      "dropout_2 (Dropout)          (None, 96)                0         \n",
      "_________________________________________________________________\n",
      "Output (Dense)               (None, 2)                 194       \n",
      "=================================================================\n",
      "Total params: 46,569,602\n",
      "Trainable params: 46,569,602\n",
      "Non-trainable params: 0\n",
      "_________________________________________________________________\n",
      "None\n"
     ]
    }
   ],
   "source": [
    "tf.keras.backend.clear_session()\n",
    "\n",
    "DROPOUT_RATE = 0.25\n",
    "DENSE_SIZE = 96\n",
    "\n",
    "inputs = Input(shape=(MAX_SENTENCE_LEN), name=\"Input\")\n",
    "embed = Embedding(input_dim=MAX_SENTENCE_LEN, output_dim=EMBEDDING_VEC_LEN, input_length=MAX_SENTENCE_LEN)(inputs)\n",
    "flat = Flatten()(embed)\n",
    "\n",
    "h_1 = Dense(DENSE_SIZE, activation='relu', name=\"hidden_1\")(flat)\n",
    "drop_1 = Dropout(DROPOUT_RATE, name=\"dropout_1\")(h_1)\n",
    "\n",
    "h_2 = Dense(DENSE_SIZE, activation='relu', name=\"hidden_2\")(drop_1)\n",
    "drop_2 = Dropout(DROPOUT_RATE, name=\"dropout_2\")(h_2)\n",
    "\n",
    "predictions = Dense(len(class_names), activation='softmax', name=\"Output\")(drop_2)\n",
    "\n",
    "model = Model(inputs=inputs, outputs=predictions)\n",
    "model.compile(optimizer='adam', loss='categorical_crossentropy', metrics=['accuracy'])\n",
    "print(model.summary())"
   ]
  },
  {
   "cell_type": "code",
   "execution_count": 12,
   "metadata": {},
   "outputs": [
    {
     "data": {
      "image/png": "[encoded data removed]",
      "text/plain": [
       "<IPython.core.display.Image object>"
      ]
     },
     "execution_count": 12,
     "metadata": {},
     "output_type": "execute_result"
    }
   ],
   "source": [
    "plot_model(model)"
   ]
  },
  {
   "cell_type": "code",
   "execution_count": 13,
   "metadata": {},
   "outputs": [
    {
     "name": "stdout",
     "output_type": "stream",
     "text": [
      "WARNING:tensorflow:`period` argument is deprecated. Please use `save_freq` to specify the frequency in number of samples seen.\n"
     ]
    }
   ],
   "source": [
    "checkpoint = ModelCheckpoint('imdb_base.hdf5',\n",
    "                            monitor=val_acc_name,\n",
    "                            save_best_only=True,\n",
    "                            period=5,\n",
    "                            verbose=1)\n",
    "early_stopping_callback = EarlyStopping(monitor=val_acc_name, \n",
    "                                        min_delta=1e-9, \n",
    "                                        patience=50, \n",
    "                                        verbose=1, \n",
    "                                        mode='auto', \n",
    "                                        baseline=None, \n",
    "                                        restore_best_weights=True)\n",
    "learning_rate_reduction = ReduceLROnPlateau(monitor=val_acc_name,\n",
    "                                           patience=5,\n",
    "                                           verbose=1,\n",
    "                                           factor=0.5,\n",
    "                                           min_lr=0.00000001)"
   ]
  },
  {
   "cell_type": "code",
   "execution_count": 14,
   "metadata": {},
   "outputs": [
    {
     "name": "stdout",
     "output_type": "stream",
     "text": [
      "Train on 25000 samples, validate on 25000 samples\n",
      "Epoch 1/10000000000\n",
      "25000/25000 [==============================] - 7s 275us/sample - loss: 1.1861 - acc: 0.5007 - val_loss: 0.6931 - val_acc: 0.5001\n",
      "Epoch 2/10000000000\n",
      "25000/25000 [==============================] - 7s 270us/sample - loss: 0.6928 - acc: 0.4988 - val_loss: 0.6931 - val_acc: 0.5002\n",
      "Epoch 3/10000000000\n",
      "25000/25000 [==============================] - 7s 267us/sample - loss: 0.6937 - acc: 0.5014 - val_loss: 0.6931 - val_acc: 0.5000\n",
      "Epoch 4/10000000000\n",
      "25000/25000 [==============================] - 7s 266us/sample - loss: 0.6925 - acc: 0.4991 - val_loss: 0.6931 - val_acc: 0.4999\n",
      "Epoch 5/10000000000\n",
      "24832/25000 [============================>.] - ETA: 0s - loss: 0.6908 - acc: 0.5048\n",
      "Epoch 00005: val_acc improved from -inf to 0.50248, saving model to imdb_base.hdf5\n",
      "25000/25000 [==============================] - 11s 454us/sample - loss: 0.6908 - acc: 0.5047 - val_loss: 0.6924 - val_acc: 0.5025\n",
      "Epoch 6/10000000000\n",
      "25000/25000 [==============================] - 7s 268us/sample - loss: 0.6892 - acc: 0.5052 - val_loss: 0.6912 - val_acc: 0.4998\n",
      "Epoch 7/10000000000\n",
      "25000/25000 [==============================] - 7s 269us/sample - loss: 0.5656 - acc: 0.6932 - val_loss: 0.3542 - val_acc: 0.8466\n",
      "Epoch 8/10000000000\n",
      "25000/25000 [==============================] - 7s 267us/sample - loss: 0.3237 - acc: 0.8670 - val_loss: 0.3070 - val_acc: 0.8708\n",
      "Epoch 9/10000000000\n",
      "25000/25000 [==============================] - 7s 269us/sample - loss: 0.2053 - acc: 0.9208 - val_loss: 0.3298 - val_acc: 0.8661\n",
      "Epoch 10/10000000000\n",
      "24832/25000 [============================>.] - ETA: 0s - loss: 0.1184 - acc: 0.9556\n",
      "Epoch 00010: val_acc improved from 0.50248 to 0.86200, saving model to imdb_base.hdf5\n",
      "25000/25000 [==============================] - 11s 451us/sample - loss: 0.1181 - acc: 0.9557 - val_loss: 0.4258 - val_acc: 0.8620\n",
      "Epoch 11/10000000000\n",
      "25000/25000 [==============================] - 7s 270us/sample - loss: 0.0617 - acc: 0.9779 - val_loss: 0.5561 - val_acc: 0.8584\n",
      "Epoch 12/10000000000\n",
      "25000/25000 [==============================] - 7s 269us/sample - loss: 0.0356 - acc: 0.9870 - val_loss: 0.6891 - val_acc: 0.8576\n",
      "Epoch 13/10000000000\n",
      "24832/25000 [============================>.] - ETA: 0s - loss: 0.0286 - acc: 0.9900\n",
      "Epoch 00013: ReduceLROnPlateau reducing learning rate to 0.0005000000237487257.\n",
      "25000/25000 [==============================] - 7s 266us/sample - loss: 0.0287 - acc: 0.9900 - val_loss: 0.7176 - val_acc: 0.8571\n",
      "Epoch 14/10000000000\n",
      "25000/25000 [==============================] - 7s 265us/sample - loss: 0.0194 - acc: 0.9928 - val_loss: 0.8352 - val_acc: 0.8569\n",
      "Epoch 15/10000000000\n",
      "24832/25000 [============================>.] - ETA: 0s - loss: 0.0138 - acc: 0.9948\n",
      "Epoch 00015: val_acc did not improve from 0.86200\n",
      "25000/25000 [==============================] - 7s 263us/sample - loss: 0.0138 - acc: 0.9948 - val_loss: 0.8938 - val_acc: 0.8586\n",
      "Epoch 16/10000000000\n",
      "25000/25000 [==============================] - 7s 265us/sample - loss: 0.0114 - acc: 0.9955 - val_loss: 0.9111 - val_acc: 0.8589\n",
      "Epoch 17/10000000000\n",
      "25000/25000 [==============================] - 7s 269us/sample - loss: 0.0092 - acc: 0.9966 - val_loss: 0.9937 - val_acc: 0.8590\n",
      "Epoch 18/10000000000\n",
      "24832/25000 [============================>.] - ETA: 0s - loss: 0.0093 - acc: 0.9967\n",
      "Epoch 00018: ReduceLROnPlateau reducing learning rate to 0.0002500000118743628.\n",
      "25000/25000 [==============================] - 7s 269us/sample - loss: 0.0093 - acc: 0.9968 - val_loss: 1.0319 - val_acc: 0.8589\n",
      "Epoch 19/10000000000\n",
      "25000/25000 [==============================] - 7s 268us/sample - loss: 0.0063 - acc: 0.9980 - val_loss: 1.0218 - val_acc: 0.8595\n",
      "Epoch 20/10000000000\n",
      "24832/25000 [============================>.] - ETA: 0s - loss: 0.0063 - acc: 0.9977\n",
      "Epoch 00020: val_acc did not improve from 0.86200\n",
      "25000/25000 [==============================] - 7s 268us/sample - loss: 0.0062 - acc: 0.9977 - val_loss: 1.0862 - val_acc: 0.8591\n",
      "Epoch 21/10000000000\n",
      "25000/25000 [==============================] - 7s 269us/sample - loss: 0.0056 - acc: 0.9977 - val_loss: 1.0745 - val_acc: 0.8598\n",
      "Epoch 22/10000000000\n",
      "25000/25000 [==============================] - 7s 269us/sample - loss: 0.0051 - acc: 0.9981 - val_loss: 1.0730 - val_acc: 0.8593\n",
      "Epoch 23/10000000000\n",
      "24832/25000 [============================>.] - ETA: 0s - loss: 0.0050 - acc: 0.9983\n",
      "Epoch 00023: ReduceLROnPlateau reducing learning rate to 0.0001250000059371814.\n",
      "25000/25000 [==============================] - 7s 271us/sample - loss: 0.0050 - acc: 0.9983 - val_loss: 1.1569 - val_acc: 0.8593\n",
      "Epoch 24/10000000000\n",
      "25000/25000 [==============================] - 7s 265us/sample - loss: 0.0046 - acc: 0.9982 - val_loss: 1.1335 - val_acc: 0.8596\n",
      "Epoch 25/10000000000\n",
      "24832/25000 [============================>.] - ETA: 0s - loss: 0.0043 - acc: 0.9983\n",
      "Epoch 00025: val_acc did not improve from 0.86200\n",
      "25000/25000 [==============================] - 7s 272us/sample - loss: 0.0043 - acc: 0.9984 - val_loss: 1.1400 - val_acc: 0.8598\n",
      "Epoch 26/10000000000\n",
      "25000/25000 [==============================] - 7s 265us/sample - loss: 0.0043 - acc: 0.9986 - val_loss: 1.1476 - val_acc: 0.8595\n",
      "Epoch 27/10000000000\n",
      "25000/25000 [==============================] - 7s 263us/sample - loss: 0.0041 - acc: 0.9987 - val_loss: 1.1644 - val_acc: 0.8604\n",
      "Epoch 28/10000000000\n",
      "24832/25000 [============================>.] - ETA: 0s - loss: 0.0031 - acc: 0.9988\n",
      "Epoch 00028: ReduceLROnPlateau reducing learning rate to 6.25000029685907e-05.\n",
      "25000/25000 [==============================] - 7s 263us/sample - loss: 0.0031 - acc: 0.9988 - val_loss: 1.1766 - val_acc: 0.8603\n",
      "Epoch 29/10000000000\n",
      "25000/25000 [==============================] - 7s 272us/sample - loss: 0.0032 - acc: 0.9988 - val_loss: 1.2070 - val_acc: 0.8601\n",
      "Epoch 30/10000000000\n",
      "24832/25000 [============================>.] - ETA: 0s - loss: 0.0033 - acc: 0.9990\n",
      "Epoch 00030: val_acc did not improve from 0.86200\n",
      "25000/25000 [==============================] - 7s 270us/sample - loss: 0.0033 - acc: 0.9990 - val_loss: 1.2237 - val_acc: 0.8600\n",
      "Epoch 31/10000000000\n",
      "25000/25000 [==============================] - 7s 269us/sample - loss: 0.0026 - acc: 0.9993 - val_loss: 1.2178 - val_acc: 0.8596\n",
      "Epoch 32/10000000000\n",
      "25000/25000 [==============================] - 7s 270us/sample - loss: 0.0033 - acc: 0.9993 - val_loss: 1.2393 - val_acc: 0.8598\n",
      "Epoch 33/10000000000\n",
      "24832/25000 [============================>.] - ETA: 0s - loss: 0.0024 - acc: 0.9994\n",
      "Epoch 00033: ReduceLROnPlateau reducing learning rate to 3.125000148429535e-05.\n",
      "25000/25000 [==============================] - 7s 268us/sample - loss: 0.0024 - acc: 0.9994 - val_loss: 1.2500 - val_acc: 0.8602\n",
      "Epoch 34/10000000000\n",
      "25000/25000 [==============================] - 7s 272us/sample - loss: 0.0026 - acc: 0.9991 - val_loss: 1.2416 - val_acc: 0.8607\n",
      "Epoch 35/10000000000\n",
      "24832/25000 [============================>.] - ETA: 0s - loss: 0.0027 - acc: 0.9992\n",
      "Epoch 00035: val_acc did not improve from 0.86200\n",
      "25000/25000 [==============================] - 7s 270us/sample - loss: 0.0027 - acc: 0.9992 - val_loss: 1.2419 - val_acc: 0.8600\n",
      "Epoch 36/10000000000\n",
      "25000/25000 [==============================] - 7s 270us/sample - loss: 0.0025 - acc: 0.9994 - val_loss: 1.2517 - val_acc: 0.8603\n",
      "Epoch 37/10000000000\n",
      "25000/25000 [==============================] - 7s 269us/sample - loss: 0.0025 - acc: 0.9991 - val_loss: 1.2322 - val_acc: 0.8604\n",
      "Epoch 38/10000000000\n",
      "24832/25000 [============================>.] - ETA: 0s - loss: 0.0021 - acc: 0.9995\n",
      "Epoch 00038: ReduceLROnPlateau reducing learning rate to 1.5625000742147677e-05.\n",
      "25000/25000 [==============================] - 7s 269us/sample - loss: 0.0021 - acc: 0.9995 - val_loss: 1.2522 - val_acc: 0.8603\n",
      "Epoch 39/10000000000\n",
      "25000/25000 [==============================] - 7s 269us/sample - loss: 0.0021 - acc: 0.9993 - val_loss: 1.2591 - val_acc: 0.8599\n",
      "Epoch 40/10000000000\n",
      "24832/25000 [============================>.] - ETA: 0s - loss: 0.0026 - acc: 0.9993\n",
      "Epoch 00040: val_acc did not improve from 0.86200\n",
      "25000/25000 [==============================] - 7s 268us/sample - loss: 0.0026 - acc: 0.9993 - val_loss: 1.2583 - val_acc: 0.8604\n",
      "Epoch 41/10000000000\n"
     ]
    },
    {
     "name": "stdout",
     "output_type": "stream",
     "text": [
      "25000/25000 [==============================] - 7s 270us/sample - loss: 0.0028 - acc: 0.9990 - val_loss: 1.2527 - val_acc: 0.8605\n",
      "Epoch 42/10000000000\n",
      "25000/25000 [==============================] - 7s 268us/sample - loss: 0.0024 - acc: 0.9992 - val_loss: 1.2590 - val_acc: 0.8604\n",
      "Epoch 43/10000000000\n",
      "24832/25000 [============================>.] - ETA: 0s - loss: 0.0026 - acc: 0.9994\n",
      "Epoch 00043: ReduceLROnPlateau reducing learning rate to 7.812500371073838e-06.\n",
      "25000/25000 [==============================] - 7s 266us/sample - loss: 0.0026 - acc: 0.9994 - val_loss: 1.2541 - val_acc: 0.8609\n",
      "Epoch 44/10000000000\n",
      "25000/25000 [==============================] - 7s 268us/sample - loss: 0.0028 - acc: 0.9990 - val_loss: 1.2553 - val_acc: 0.8607\n",
      "Epoch 45/10000000000\n",
      "24832/25000 [============================>.] - ETA: 0s - loss: 0.0022 - acc: 0.9994\n",
      "Epoch 00045: val_acc did not improve from 0.86200\n",
      "25000/25000 [==============================] - 7s 268us/sample - loss: 0.0022 - acc: 0.9994 - val_loss: 1.2597 - val_acc: 0.8609\n",
      "Epoch 46/10000000000\n",
      "25000/25000 [==============================] - 7s 269us/sample - loss: 0.0023 - acc: 0.9994 - val_loss: 1.2596 - val_acc: 0.8606\n",
      "Epoch 47/10000000000\n",
      "25000/25000 [==============================] - 7s 268us/sample - loss: 0.0028 - acc: 0.9993 - val_loss: 1.2616 - val_acc: 0.8607\n",
      "Epoch 48/10000000000\n",
      "24832/25000 [============================>.] - ETA: 0s - loss: 0.0023 - acc: 0.9993\n",
      "Epoch 00048: ReduceLROnPlateau reducing learning rate to 3.906250185536919e-06.\n",
      "25000/25000 [==============================] - 7s 269us/sample - loss: 0.0023 - acc: 0.9993 - val_loss: 1.2693 - val_acc: 0.8606\n",
      "Epoch 49/10000000000\n",
      "25000/25000 [==============================] - 7s 270us/sample - loss: 0.0029 - acc: 0.9996 - val_loss: 1.2691 - val_acc: 0.8608\n",
      "Epoch 50/10000000000\n",
      "24832/25000 [============================>.] - ETA: 0s - loss: 0.0027 - acc: 0.9992\n",
      "Epoch 00050: val_acc did not improve from 0.86200\n",
      "25000/25000 [==============================] - 7s 269us/sample - loss: 0.0027 - acc: 0.9992 - val_loss: 1.2681 - val_acc: 0.8602\n",
      "Epoch 51/10000000000\n",
      "25000/25000 [==============================] - 7s 271us/sample - loss: 0.0028 - acc: 0.9994 - val_loss: 1.2696 - val_acc: 0.8605\n",
      "Epoch 52/10000000000\n",
      "25000/25000 [==============================] - 7s 267us/sample - loss: 0.0022 - acc: 0.9992 - val_loss: 1.2720 - val_acc: 0.8605\n",
      "Epoch 53/10000000000\n",
      "24832/25000 [============================>.] - ETA: 0s - loss: 0.0023 - acc: 0.9994\n",
      "Epoch 00053: ReduceLROnPlateau reducing learning rate to 1.9531250927684596e-06.\n",
      "25000/25000 [==============================] - 7s 268us/sample - loss: 0.0023 - acc: 0.9994 - val_loss: 1.2754 - val_acc: 0.8605\n",
      "Epoch 54/10000000000\n",
      "25000/25000 [==============================] - 7s 267us/sample - loss: 0.0025 - acc: 0.9992 - val_loss: 1.2742 - val_acc: 0.8605\n",
      "Epoch 55/10000000000\n",
      "24832/25000 [============================>.] - ETA: 0s - loss: 0.0024 - acc: 0.9992\n",
      "Epoch 00055: val_acc did not improve from 0.86200\n",
      "25000/25000 [==============================] - 7s 269us/sample - loss: 0.0024 - acc: 0.9992 - val_loss: 1.2736 - val_acc: 0.8606\n",
      "Epoch 56/10000000000\n",
      "25000/25000 [==============================] - 7s 267us/sample - loss: 0.0026 - acc: 0.9992 - val_loss: 1.2725 - val_acc: 0.8606\n",
      "Epoch 57/10000000000\n",
      "25000/25000 [==============================] - 7s 266us/sample - loss: 0.0023 - acc: 0.9994 - val_loss: 1.2737 - val_acc: 0.8607\n",
      "Epoch 58/10000000000\n",
      "24832/25000 [============================>.] - ETA: 0s - loss: 0.0021 - acc: 0.9994\n",
      "Epoch 00058: ReduceLROnPlateau reducing learning rate to 9.765625463842298e-07.\n",
      "Restoring model weights from the end of the best epoch.\n",
      "25000/25000 [==============================] - 7s 273us/sample - loss: 0.0021 - acc: 0.9994 - val_loss: 1.2740 - val_acc: 0.8604\n",
      "Epoch 00058: early stopping\n",
      "CPU times: user 4min 19s, sys: 40.8 s, total: 4min 59s\n",
      "Wall time: 6min 40s\n"
     ]
    }
   ],
   "source": [
    "%%time\n",
    "BATCH_SIZE = 256\n",
    "EPOCHS = 10000000000\n",
    "history = model.fit(x=train_x, y=train_y, batch_size=BATCH_SIZE,\n",
    "                   epochs = EPOCHS,\n",
    "                   validation_data=(test_x, test_y),\n",
    "                   \n",
    "                   verbose=1,\n",
    "                   callbacks=[checkpoint, learning_rate_reduction, early_stopping_callback])"
   ]
  },
  {
   "cell_type": "code",
   "execution_count": 15,
   "metadata": {},
   "outputs": [
    {
     "data": {
      "image/png": "[encoded data removed]",
      "text/plain": [
       "<Figure size 432x288 with 1 Axes>"
      ]
     },
     "metadata": {
      "needs_background": "light"
     },
     "output_type": "display_data"
    },
    {
     "data": {
      "image/png": "[encoded data removed]",
      "text/plain": [
       "<Figure size 432x288 with 1 Axes>"
      ]
     },
     "metadata": {
      "needs_background": "light"
     },
     "output_type": "display_data"
    }
   ],
   "source": [
    "plt.figure()\n",
    "plt.plot(history.history['loss'], label='train loss')\n",
    "plt.plot(history.history['val_loss'], label='validation loss')\n",
    "plt.xlabel('Эпоха обучения')\n",
    "plt.ylabel('Значение функции потерь')\n",
    "plt.legend()\n",
    "\n",
    "plt.figure()\n",
    "plt.plot(history.history[acc_name], label='train accuracy')\n",
    "plt.plot(history.history[val_acc_name], label='validation accuracy')\n",
    "plt.xlabel('Эпоха обучения')\n",
    "plt.ylabel('Доля верных ответов')\n",
    "plt.legend()\n",
    "\n",
    "plt.show()"
   ]
  },
  {
   "cell_type": "code",
   "execution_count": 16,
   "metadata": {},
   "outputs": [
    {
     "name": "stdout",
     "output_type": "stream",
     "text": [
      "25000/25000 [==============================] - 3s 126us/sample - loss: 0.3070 - acc: 0.8708\n"
     ]
    },
    {
     "data": {
      "text/plain": [
       "[0.3069543052482605, 0.8708]"
      ]
     },
     "execution_count": 16,
     "metadata": {},
     "output_type": "execute_result"
    }
   ],
   "source": [
    "model.evaluate(test_x, test_y)"
   ]
  },
  {
   "cell_type": "code",
   "execution_count": 17,
   "metadata": {},
   "outputs": [
    {
     "name": "stdout",
     "output_type": "stream",
     "text": [
      "Test data evaluation:\n",
      "              precision    recall  f1-score   support\n",
      "\n",
      "    negative       0.87      0.87      0.87     12500\n",
      "    positive       0.87      0.87      0.87     12500\n",
      "\n",
      "    accuracy                           0.87     25000\n",
      "   macro avg       0.87      0.87      0.87     25000\n",
      "weighted avg       0.87      0.87      0.87     25000\n",
      "\n"
     ]
    }
   ],
   "source": [
    "preds = model.predict(test_x)\n",
    "\n",
    "print(\"Test data evaluation:\")\n",
    "print(classification_report(test_y.argmax(axis=1), preds.argmax(axis=1), target_names=class_names))"
   ]
  },
  {
   "cell_type": "code",
   "execution_count": null,
   "metadata": {},
   "outputs": [],
   "source": [
    "3"
   ]
  }
 ],
 "metadata": {
  "kernelspec": {
   "display_name": "Python 3",
   "language": "python",
   "name": "python3"
  },
  "language_info": {
   "codemirror_mode": {
    "name": "ipython",
    "version": 3
   },
   "file_extension": ".py",
   "mimetype": "text/x-python",
   "name": "python",
   "nbconvert_exporter": "python",
   "pygments_lexer": "ipython3",
   "version": "3.7.4"
  }
 },
 "nbformat": 4,
 "nbformat_minor": 2
}
