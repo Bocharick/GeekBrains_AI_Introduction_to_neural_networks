{
 "cells": [
  {
   "cell_type": "code",
   "execution_count": 1,
   "metadata": {},
   "outputs": [
    {
     "name": "stderr",
     "output_type": "stream",
     "text": [
      "/home/bocharick/anaconda3/lib/python3.7/site-packages/tensorflow/python/framework/dtypes.py:516: FutureWarning: Passing (type, 1) or '1type' as a synonym of type is deprecated; in a future version of numpy, it will be understood as (type, (1,)) / '(1,)type'.\n",
      "  _np_qint8 = np.dtype([(\"qint8\", np.int8, 1)])\n",
      "/home/bocharick/anaconda3/lib/python3.7/site-packages/tensorflow/python/framework/dtypes.py:517: FutureWarning: Passing (type, 1) or '1type' as a synonym of type is deprecated; in a future version of numpy, it will be understood as (type, (1,)) / '(1,)type'.\n",
      "  _np_quint8 = np.dtype([(\"quint8\", np.uint8, 1)])\n",
      "/home/bocharick/anaconda3/lib/python3.7/site-packages/tensorflow/python/framework/dtypes.py:518: FutureWarning: Passing (type, 1) or '1type' as a synonym of type is deprecated; in a future version of numpy, it will be understood as (type, (1,)) / '(1,)type'.\n",
      "  _np_qint16 = np.dtype([(\"qint16\", np.int16, 1)])\n",
      "/home/bocharick/anaconda3/lib/python3.7/site-packages/tensorflow/python/framework/dtypes.py:519: FutureWarning: Passing (type, 1) or '1type' as a synonym of type is deprecated; in a future version of numpy, it will be understood as (type, (1,)) / '(1,)type'.\n",
      "  _np_quint16 = np.dtype([(\"quint16\", np.uint16, 1)])\n",
      "/home/bocharick/anaconda3/lib/python3.7/site-packages/tensorflow/python/framework/dtypes.py:520: FutureWarning: Passing (type, 1) or '1type' as a synonym of type is deprecated; in a future version of numpy, it will be understood as (type, (1,)) / '(1,)type'.\n",
      "  _np_qint32 = np.dtype([(\"qint32\", np.int32, 1)])\n",
      "/home/bocharick/anaconda3/lib/python3.7/site-packages/tensorflow/python/framework/dtypes.py:525: FutureWarning: Passing (type, 1) or '1type' as a synonym of type is deprecated; in a future version of numpy, it will be understood as (type, (1,)) / '(1,)type'.\n",
      "  np_resource = np.dtype([(\"resource\", np.ubyte, 1)])\n"
     ]
    },
    {
     "name": "stdout",
     "output_type": "stream",
     "text": [
      "1.14.0\n"
     ]
    },
    {
     "name": "stderr",
     "output_type": "stream",
     "text": [
      "/home/bocharick/anaconda3/lib/python3.7/site-packages/tensorboard/compat/tensorflow_stub/dtypes.py:541: FutureWarning: Passing (type, 1) or '1type' as a synonym of type is deprecated; in a future version of numpy, it will be understood as (type, (1,)) / '(1,)type'.\n",
      "  _np_qint8 = np.dtype([(\"qint8\", np.int8, 1)])\n",
      "/home/bocharick/anaconda3/lib/python3.7/site-packages/tensorboard/compat/tensorflow_stub/dtypes.py:542: FutureWarning: Passing (type, 1) or '1type' as a synonym of type is deprecated; in a future version of numpy, it will be understood as (type, (1,)) / '(1,)type'.\n",
      "  _np_quint8 = np.dtype([(\"quint8\", np.uint8, 1)])\n",
      "/home/bocharick/anaconda3/lib/python3.7/site-packages/tensorboard/compat/tensorflow_stub/dtypes.py:543: FutureWarning: Passing (type, 1) or '1type' as a synonym of type is deprecated; in a future version of numpy, it will be understood as (type, (1,)) / '(1,)type'.\n",
      "  _np_qint16 = np.dtype([(\"qint16\", np.int16, 1)])\n",
      "/home/bocharick/anaconda3/lib/python3.7/site-packages/tensorboard/compat/tensorflow_stub/dtypes.py:544: FutureWarning: Passing (type, 1) or '1type' as a synonym of type is deprecated; in a future version of numpy, it will be understood as (type, (1,)) / '(1,)type'.\n",
      "  _np_quint16 = np.dtype([(\"quint16\", np.uint16, 1)])\n",
      "/home/bocharick/anaconda3/lib/python3.7/site-packages/tensorboard/compat/tensorflow_stub/dtypes.py:545: FutureWarning: Passing (type, 1) or '1type' as a synonym of type is deprecated; in a future version of numpy, it will be understood as (type, (1,)) / '(1,)type'.\n",
      "  _np_qint32 = np.dtype([(\"qint32\", np.int32, 1)])\n",
      "/home/bocharick/anaconda3/lib/python3.7/site-packages/tensorboard/compat/tensorflow_stub/dtypes.py:550: FutureWarning: Passing (type, 1) or '1type' as a synonym of type is deprecated; in a future version of numpy, it will be understood as (type, (1,)) / '(1,)type'.\n",
      "  np_resource = np.dtype([(\"resource\", np.ubyte, 1)])\n"
     ]
    }
   ],
   "source": [
    "import tensorflow as tf\n",
    "from tensorflow import keras\n",
    "\n",
    "from tensorflow.keras.layers import Input, Dense, Flatten, Dropout, Concatenate\n",
    "from tensorflow.keras.models import Model\n",
    "from tensorflow.python.keras.preprocessing.image import ImageDataGenerator\n",
    "from tensorflow.keras.callbacks import ReduceLROnPlateau, ModelCheckpoint, EarlyStopping\n",
    "\n",
    "import numpy as np\n",
    "import matplotlib.pyplot as plt\n",
    "\n",
    "print(tf.__version__)"
   ]
  },
  {
   "cell_type": "code",
   "execution_count": 2,
   "metadata": {},
   "outputs": [],
   "source": [
    "class_names = ['T-shirt/top', 'Trouser', 'Pullover', 'Dress', 'Coat',\n",
    "               'Sandal', 'Shirt', 'Sneaker', 'Bag', 'Ankle boot']"
   ]
  },
  {
   "cell_type": "code",
   "execution_count": 3,
   "metadata": {},
   "outputs": [],
   "source": [
    "fashion_mnist = keras.datasets.fashion_mnist\n",
    "\n",
    "(train_images, train_labels), (test_images, test_labels) = fashion_mnist.load_data()\n",
    "train_images = train_images.reshape(train_images.shape[0], train_images.shape[1], train_images.shape[2], 1)\n",
    "test_images = test_images.reshape(test_images.shape[0], test_images.shape[1], test_images.shape[2], 1)\n",
    "train_labels = keras.utils.to_categorical(train_labels, len(class_names))\n",
    "test_labels = keras.utils.to_categorical(test_labels, len(class_names))"
   ]
  },
  {
   "cell_type": "code",
   "execution_count": 4,
   "metadata": {},
   "outputs": [
    {
     "data": {
      "text/plain": [
       "(60000, 28, 28, 1)"
      ]
     },
     "execution_count": 4,
     "metadata": {},
     "output_type": "execute_result"
    }
   ],
   "source": [
    "train_images.shape"
   ]
  },
  {
   "cell_type": "code",
   "execution_count": 5,
   "metadata": {},
   "outputs": [
    {
     "data": {
      "text/plain": [
       "(10000, 28, 28, 1)"
      ]
     },
     "execution_count": 5,
     "metadata": {},
     "output_type": "execute_result"
    }
   ],
   "source": [
    "test_images.shape"
   ]
  },
  {
   "cell_type": "code",
   "execution_count": 6,
   "metadata": {},
   "outputs": [
    {
     "data": {
      "text/plain": [
       "(60000, 10)"
      ]
     },
     "execution_count": 6,
     "metadata": {},
     "output_type": "execute_result"
    }
   ],
   "source": [
    "train_labels.shape"
   ]
  },
  {
   "cell_type": "code",
   "execution_count": 7,
   "metadata": {},
   "outputs": [
    {
     "data": {
      "text/plain": [
       "(10000, 10)"
      ]
     },
     "execution_count": 7,
     "metadata": {},
     "output_type": "execute_result"
    }
   ],
   "source": [
    "test_labels.shape"
   ]
  },
  {
   "cell_type": "code",
   "execution_count": 8,
   "metadata": {},
   "outputs": [
    {
     "data": {
      "image/png": "[encoded data removed]",
      "text/plain": [
       "<Figure size 432x288 with 2 Axes>"
      ]
     },
     "metadata": {
      "needs_background": "light"
     },
     "output_type": "display_data"
    }
   ],
   "source": [
    "plt.figure()\n",
    "plt.imshow(train_images[0].reshape(28,28))\n",
    "plt.colorbar()\n",
    "plt.grid(False)\n",
    "plt.show()"
   ]
  },
  {
   "cell_type": "code",
   "execution_count": 9,
   "metadata": {},
   "outputs": [],
   "source": [
    "datagen = ImageDataGenerator(\n",
    "  rotation_range = 10,\n",
    "    zoom_range = 0.1,\n",
    "    width_shift_range = 0.1,\n",
    "    height_shift_range = 0.1\n",
    ")"
   ]
  },
  {
   "cell_type": "code",
   "execution_count": 10,
   "metadata": {},
   "outputs": [
    {
     "data": {
      "image/png": "[encoded data removed]",
      "text/plain": [
       "<Figure size 432x288 with 1 Axes>"
      ]
     },
     "metadata": {
      "needs_background": "light"
     },
     "output_type": "display_data"
    },
    {
     "data": {
      "image/png": "[encoded data removed]",
      "text/plain": [
       "<Figure size 432x288 with 1 Axes>"
      ]
     },
     "metadata": {
      "needs_background": "light"
     },
     "output_type": "display_data"
    },
    {
     "data": {
      "image/png": "[encoded data removed]",
      "text/plain": [
       "<Figure size 432x288 with 1 Axes>"
      ]
     },
     "metadata": {
      "needs_background": "light"
     },
     "output_type": "display_data"
    },
    {
     "data": {
      "image/png": "[encoded data removed]",
      "text/plain": [
       "<Figure size 432x288 with 1 Axes>"
      ]
     },
     "metadata": {
      "needs_background": "light"
     },
     "output_type": "display_data"
    },
    {
     "data": {
      "image/png": "[encoded data removed]",
      "text/plain": [
       "<Figure size 432x288 with 1 Axes>"
      ]
     },
     "metadata": {
      "needs_background": "light"
     },
     "output_type": "display_data"
    },
    {
     "data": {
      "image/png": "[encoded data removed]",
      "text/plain": [
       "<Figure size 432x288 with 1 Axes>"
      ]
     },
     "metadata": {
      "needs_background": "light"
     },
     "output_type": "display_data"
    }
   ],
   "source": [
    "i = 0\n",
    "data = train_images[0]\n",
    "data = np.expand_dims(data, axis=0)\n",
    "for batch in datagen.flow(data, batch_size=1):\n",
    "    plt.figure(i)\n",
    "    imfplot = plt.imshow(batch[0][:,:,0])\n",
    "    i += 1\n",
    "    if i % 6 == 0:\n",
    "        break\n",
    "plt.show()"
   ]
  },
  {
   "cell_type": "code",
   "execution_count": 11,
   "metadata": {},
   "outputs": [],
   "source": [
    "train_images = train_images / 255.0\n",
    "\n",
    "test_images = test_images / 255.0"
   ]
  },
  {
   "cell_type": "code",
   "execution_count": 12,
   "metadata": {},
   "outputs": [
    {
     "data": {
      "image/png": "[encoded data removed]",
      "text/plain": [
       "<Figure size 720x720 with 25 Axes>"
      ]
     },
     "metadata": {},
     "output_type": "display_data"
    }
   ],
   "source": [
    "plt.figure(figsize=(10,10))\n",
    "for i in range(25):\n",
    "    plt.subplot(5,5,i+1)\n",
    "    plt.xticks([])\n",
    "    plt.yticks([])\n",
    "    plt.grid(False)\n",
    "    plt.imshow(train_images[i].reshape(28,28), cmap=plt.cm.binary)\n",
    "    plt.xlabel(class_names[np.argmax(train_labels[i])])\n",
    "plt.show()"
   ]
  },
  {
   "cell_type": "code",
   "execution_count": 13,
   "metadata": {},
   "outputs": [],
   "source": [
    "#### VARIANT 1 ####\n",
    "# tf.keras.backend.clear_session()\n",
    "\n",
    "# DROPOUT_RATE = 0.2\n",
    "\n",
    "# inputs = Input(shape=(28,28,1), name=\"Input\")\n",
    "# h_0 = Flatten()(inputs)\n",
    "# #drop_0 = Dropout(DROPOUT_RATE, name=\"dropout_0\")(h_0)\n",
    "# h_1 = Dense(6024, activation='relu', name=\"hidden_1\")(h_0)#(drop_0)\n",
    "# drop_1 = Dropout(DROPOUT_RATE, name=\"dropout_1\")(h_1)\n",
    "# h_2 = Dense(6024, activation='relu', name=\"hidden_2\")(drop_1)\n",
    "# drop_2 = Dropout(DROPOUT_RATE, name=\"dropout_2\")(h_2)\n",
    "# h_3 = Dense(6024, activation='relu', name=\"hidden_3\")(drop_2)\n",
    "# drop_3 = Dropout(DROPOUT_RATE, name=\"dropout_3\")(h_3)\n",
    "# h_4 = Dense(6024, activation='relu', name=\"hidden_4\")(drop_3)\n",
    "# drop_4 = Dropout(DROPOUT_RATE, name=\"dropout_4\")(h_4)\n",
    "# h_5 = Dense(6024, activation='relu', name=\"hidden_5\")(drop_4)\n",
    "# drop_5 = Dropout(DROPOUT_RATE, name=\"dropout_5\")(h_5)\n",
    "# predictions = Dense(10, activation='softmax', name=\"Output\")(drop_5)\n",
    "\n",
    "# model = Model(inputs=inputs, outputs=predictions)\n",
    "# model.compile(optimizer='adam', loss='categorical_crossentropy', metrics=['accuracy'])\n",
    "# print(model.summary())"
   ]
  },
  {
   "cell_type": "code",
   "execution_count": 14,
   "metadata": {},
   "outputs": [],
   "source": [
    "#### VARIANT 2 ####\n",
    "# tf.keras.backend.clear_session()\n",
    "\n",
    "# DROPOUT_RATE = 0.2\n",
    "\n",
    "# inputs = Input(shape=(28,28,1), name=\"Input\")\n",
    "# h_0 = Flatten()(inputs)\n",
    "\n",
    "# h_1 = Dense(2048, activation='relu', name=\"hidden_1\")(h_0)\n",
    "# drop_1 = Dropout(DROPOUT_RATE, name=\"dropout_1\")(h_1)\n",
    "# h_2 = Dense(2048, activation='relu', name=\"hidden_2\")(drop_1)\n",
    "# drop_2 = Dropout(DROPOUT_RATE, name=\"dropout_2\")(h_2)\n",
    "# h_3 = Dense(2048, activation='relu', name=\"hidden_3\")(drop_2)\n",
    "# drop_3 = Dropout(DROPOUT_RATE, name=\"dropout_3\")(h_3)\n",
    "# h_4 = Dense(2048, activation='relu', name=\"hidden_4\")(drop_3)\n",
    "# drop_4 = Dropout(DROPOUT_RATE, name=\"dropout_4\")(h_4)\n",
    "# h_5 = Dense(2048, activation='relu', name=\"hidden_5\")(drop_4)\n",
    "# drop_5 = Dropout(DROPOUT_RATE, name=\"dropout_5\")(h_5)\n",
    "\n",
    "# h_1_2 = Dense(2048, activation='tanh', name=\"hidden_1_2\")(h_0)\n",
    "# drop_1_2 = Dropout(DROPOUT_RATE, name=\"dropout_1_2\")(h_1_2)\n",
    "# h_2_2 = Dense(2048, activation='tanh', name=\"hidden_2_2\")(drop_1_2)\n",
    "# drop_2_2 = Dropout(DROPOUT_RATE, name=\"dropout_2_2\")(h_2_2)\n",
    "# h_3_2 = Dense(2048, activation='tanh', name=\"hidden_3_2\")(drop_2_2)\n",
    "# drop_3_2 = Dropout(DROPOUT_RATE, name=\"dropout_3_2\")(h_3_2)\n",
    "# h_4_2 = Dense(2048, activation='tanh', name=\"hidden_4_2\")(drop_3_2)\n",
    "# drop_4_2 = Dropout(DROPOUT_RATE, name=\"dropout_4_2\")(h_4_2)\n",
    "# h_5_2 = Dense(2048, activation='tanh', name=\"hidden_5_2\")(drop_4_2)\n",
    "# drop_5_2 = Dropout(DROPOUT_RATE, name=\"dropout_5_2\")(h_5_2)\n",
    "\n",
    "# h_1_3 = Dense(2048, activation='sigmoid', name=\"hidden_1_3\")(h_0)\n",
    "# drop_1_3 = Dropout(DROPOUT_RATE, name=\"dropout_1_3\")(h_1_3)\n",
    "# h_2_3 = Dense(2048, activation='sigmoid', name=\"hidden_2_3\")(drop_1_3)\n",
    "# drop_2_3 = Dropout(DROPOUT_RATE, name=\"dropout_2_3\")(h_2_3)\n",
    "# h_3_3 = Dense(2048, activation='sigmoid', name=\"hidden_3_3\")(drop_2_3)\n",
    "# drop_3_3 = Dropout(DROPOUT_RATE, name=\"dropout_3_3\")(h_3_3)\n",
    "# h_4_3 = Dense(2048, activation='sigmoid', name=\"hidden_4_3\")(drop_3_3)\n",
    "# drop_4_3 = Dropout(DROPOUT_RATE, name=\"dropout_4_3\")(h_4_3)\n",
    "# h_5_3 = Dense(2048, activation='sigmoid', name=\"hidden_5_3\")(drop_4_3)\n",
    "# drop_5_3 = Dropout(DROPOUT_RATE, name=\"dropout_5_3\")(h_5_3)\n",
    "\n",
    "# concat = Concatenate()([drop_5, drop_5_2, drop_5_3])\n",
    "\n",
    "\n",
    "# predictions = Dense(10, activation='softmax', name=\"Output\")(concat)\n",
    "\n",
    "# model = Model(inputs=inputs, outputs=predictions)\n",
    "# model.compile(optimizer='adam', loss='categorical_crossentropy', metrics=['accuracy'])\n",
    "# print(model.summary())"
   ]
  },
  {
   "cell_type": "code",
   "execution_count": 15,
   "metadata": {},
   "outputs": [
    {
     "name": "stdout",
     "output_type": "stream",
     "text": [
      "WARNING:tensorflow:From /home/bocharick/anaconda3/lib/python3.7/site-packages/tensorflow/python/ops/init_ops.py:1251: calling VarianceScaling.__init__ (from tensorflow.python.ops.init_ops) with dtype is deprecated and will be removed in a future version.\n",
      "Instructions for updating:\n",
      "Call initializer instance with the dtype argument instead of passing it to the constructor\n",
      "Model: \"model\"\n",
      "__________________________________________________________________________________________________\n",
      "Layer (type)                    Output Shape         Param #     Connected to                     \n",
      "==================================================================================================\n",
      "Input (InputLayer)              [(None, 28, 28, 1)]  0                                            \n",
      "__________________________________________________________________________________________________\n",
      "flatten (Flatten)               (None, 784)          0           Input[0][0]                      \n",
      "__________________________________________________________________________________________________\n",
      "hidden_1 (Dense)                (None, 2048)         1607680     flatten[0][0]                    \n",
      "__________________________________________________________________________________________________\n",
      "hidden_1_2 (Dense)              (None, 2048)         1607680     flatten[0][0]                    \n",
      "__________________________________________________________________________________________________\n",
      "hidden_1_3 (Dense)              (None, 2048)         1607680     flatten[0][0]                    \n",
      "__________________________________________________________________________________________________\n",
      "concatenate (Concatenate)       (None, 6144)         0           hidden_1[0][0]                   \n",
      "                                                                 hidden_1_2[0][0]                 \n",
      "                                                                 hidden_1_3[0][0]                 \n",
      "__________________________________________________________________________________________________\n",
      "dropout_1 (Dropout)             (None, 6144)         0           concatenate[0][0]                \n",
      "__________________________________________________________________________________________________\n",
      "hidden_2 (Dense)                (None, 2048)         12584960    dropout_1[0][0]                  \n",
      "__________________________________________________________________________________________________\n",
      "hidden_2_2 (Dense)              (None, 2048)         12584960    dropout_1[0][0]                  \n",
      "__________________________________________________________________________________________________\n",
      "hidden_2_3 (Dense)              (None, 2048)         12584960    dropout_1[0][0]                  \n",
      "__________________________________________________________________________________________________\n",
      "concatenate_1 (Concatenate)     (None, 6144)         0           hidden_2[0][0]                   \n",
      "                                                                 hidden_2_2[0][0]                 \n",
      "                                                                 hidden_2_3[0][0]                 \n",
      "__________________________________________________________________________________________________\n",
      "dropout_2 (Dropout)             (None, 6144)         0           concatenate_1[0][0]              \n",
      "__________________________________________________________________________________________________\n",
      "hidden_3 (Dense)                (None, 2048)         12584960    dropout_2[0][0]                  \n",
      "__________________________________________________________________________________________________\n",
      "hidden_3_2 (Dense)              (None, 2048)         12584960    dropout_2[0][0]                  \n",
      "__________________________________________________________________________________________________\n",
      "hidden_3_3 (Dense)              (None, 2048)         12584960    dropout_2[0][0]                  \n",
      "__________________________________________________________________________________________________\n",
      "concatenate_2 (Concatenate)     (None, 6144)         0           hidden_3[0][0]                   \n",
      "                                                                 hidden_3_2[0][0]                 \n",
      "                                                                 hidden_3_3[0][0]                 \n",
      "__________________________________________________________________________________________________\n",
      "dropout_3 (Dropout)             (None, 6144)         0           concatenate_2[0][0]              \n",
      "__________________________________________________________________________________________________\n",
      "hidden_4 (Dense)                (None, 2048)         12584960    dropout_3[0][0]                  \n",
      "__________________________________________________________________________________________________\n",
      "hidden_4_2 (Dense)              (None, 2048)         12584960    dropout_3[0][0]                  \n",
      "__________________________________________________________________________________________________\n",
      "hidden_4_3 (Dense)              (None, 2048)         12584960    dropout_3[0][0]                  \n",
      "__________________________________________________________________________________________________\n",
      "concatenate_3 (Concatenate)     (None, 6144)         0           hidden_4[0][0]                   \n",
      "                                                                 hidden_4_2[0][0]                 \n",
      "                                                                 hidden_4_3[0][0]                 \n",
      "__________________________________________________________________________________________________\n",
      "dropout_4 (Dropout)             (None, 6144)         0           concatenate_3[0][0]              \n",
      "__________________________________________________________________________________________________\n",
      "hidden_5 (Dense)                (None, 2048)         12584960    dropout_4[0][0]                  \n",
      "__________________________________________________________________________________________________\n",
      "hidden_5_2 (Dense)              (None, 2048)         12584960    dropout_4[0][0]                  \n",
      "__________________________________________________________________________________________________\n",
      "hidden_5_3 (Dense)              (None, 2048)         12584960    dropout_4[0][0]                  \n",
      "__________________________________________________________________________________________________\n",
      "concatenate_4 (Concatenate)     (None, 6144)         0           hidden_5[0][0]                   \n",
      "                                                                 hidden_5_2[0][0]                 \n",
      "                                                                 hidden_5_3[0][0]                 \n",
      "__________________________________________________________________________________________________\n",
      "dropout_5 (Dropout)             (None, 6144)         0           concatenate_4[0][0]              \n",
      "__________________________________________________________________________________________________\n",
      "Output (Dense)                  (None, 10)           61450       dropout_5[0][0]                  \n",
      "==================================================================================================\n",
      "Total params: 155,904,010\n",
      "Trainable params: 155,904,010\n",
      "Non-trainable params: 0\n",
      "__________________________________________________________________________________________________\n",
      "None\n"
     ]
    }
   ],
   "source": [
    "#### VARIANT 3 ####\n",
    "tf.keras.backend.clear_session()\n",
    "\n",
    "DROPOUT_RATE = 0.2\n",
    "\n",
    "inputs = Input(shape=(28,28,1), name=\"Input\")\n",
    "h_0 = Flatten()(inputs)\n",
    "\n",
    "h_1 = Dense(2048, activation='relu', name=\"hidden_1\")(h_0)\n",
    "h_1_2 = Dense(2048, activation='tanh', name=\"hidden_1_2\")(h_0)\n",
    "h_1_3 = Dense(2048, activation='sigmoid', name=\"hidden_1_3\")(h_0)\n",
    "h_1_concat = Concatenate()([h_1, h_1_2, h_1_3])\n",
    "drop_1 = Dropout(DROPOUT_RATE, name=\"dropout_1\")(h_1_concat)\n",
    "\n",
    "h_2 = Dense(2048, activation='relu', name=\"hidden_2\")(drop_1)\n",
    "h_2_2 = Dense(2048, activation='tanh', name=\"hidden_2_2\")(drop_1)\n",
    "h_2_3 = Dense(2048, activation='sigmoid', name=\"hidden_2_3\")(drop_1)\n",
    "h_2_concat = Concatenate()([h_2, h_2_2, h_2_3])\n",
    "drop_2 = Dropout(DROPOUT_RATE, name=\"dropout_2\")(h_2_concat)\n",
    "\n",
    "h_3 = Dense(2048, activation='relu', name=\"hidden_3\")(drop_2)\n",
    "h_3_2 = Dense(2048, activation='tanh', name=\"hidden_3_2\")(drop_2)\n",
    "h_3_3 = Dense(2048, activation='sigmoid', name=\"hidden_3_3\")(drop_2)\n",
    "h_3_concat = Concatenate()([h_3, h_3_2, h_3_3])\n",
    "drop_3 = Dropout(DROPOUT_RATE, name=\"dropout_3\")(h_3_concat)\n",
    "\n",
    "h_4 = Dense(2048, activation='relu', name=\"hidden_4\")(drop_3)\n",
    "h_4_2 = Dense(2048, activation='tanh', name=\"hidden_4_2\")(drop_3)\n",
    "h_4_3 = Dense(2048, activation='sigmoid', name=\"hidden_4_3\")(drop_3)\n",
    "h_4_concat = Concatenate()([h_4, h_4_2, h_4_3])\n",
    "drop_4 = Dropout(DROPOUT_RATE, name=\"dropout_4\")(h_4_concat)\n",
    "\n",
    "h_5 = Dense(2048, activation='relu', name=\"hidden_5\")(drop_4)\n",
    "h_5_2 = Dense(2048, activation='tanh', name=\"hidden_5_2\")(drop_4)\n",
    "h_5_3 = Dense(2048, activation='sigmoid', name=\"hidden_5_3\")(drop_4)\n",
    "h_5_concat = Concatenate()([h_5, h_5_2, h_5_3])\n",
    "drop_5 = Dropout(DROPOUT_RATE, name=\"dropout_5\")(h_5_concat)\n",
    "\n",
    "predictions = Dense(10, activation='softmax', name=\"Output\")(drop_5)\n",
    "\n",
    "model = Model(inputs=inputs, outputs=predictions)\n",
    "model.compile(optimizer='adam', loss='categorical_crossentropy', metrics=['accuracy'])\n",
    "print(model.summary())"
   ]
  },
  {
   "cell_type": "code",
   "execution_count": 16,
   "metadata": {},
   "outputs": [],
   "source": [
    "if tf.__version__.startswith(\"1.\"):\n",
    "    val_acc_name = \"val_acc\"\n",
    "    acc_name = \"acc\"\n",
    "else:\n",
    "    val_acc_name = \"val_accuracy\"\n",
    "    acc_name = \"accuracy\""
   ]
  },
  {
   "cell_type": "code",
   "execution_count": 17,
   "metadata": {},
   "outputs": [
    {
     "name": "stdout",
     "output_type": "stream",
     "text": [
      "WARNING:tensorflow:`period` argument is deprecated. Please use `save_freq` to specify the frequency in number of samples seen.\n"
     ]
    }
   ],
   "source": [
    "checkpoint = ModelCheckpoint('mnist-fashion.hdf5',\n",
    "                            monitor=val_acc_name,\n",
    "                            save_best_only=True,\n",
    "                            period=5,\n",
    "                            verbose=1)"
   ]
  },
  {
   "cell_type": "code",
   "execution_count": 18,
   "metadata": {},
   "outputs": [],
   "source": [
    "early_stopping_callback = EarlyStopping(monitor=val_acc_name, \n",
    "                                        min_delta=1e-7, \n",
    "                                        patience=30, \n",
    "                                        verbose=1, \n",
    "                                        mode='auto', \n",
    "                                        baseline=None, \n",
    "                                        restore_best_weights=True)"
   ]
  },
  {
   "cell_type": "code",
   "execution_count": 19,
   "metadata": {},
   "outputs": [],
   "source": [
    "learning_rate_reduction = ReduceLROnPlateau(monitor=val_acc_name,\n",
    "                                           patience=5,\n",
    "                                           verbose=1,\n",
    "                                           factor=0.5,\n",
    "                                           min_lr=0.000001)"
   ]
  },
  {
   "cell_type": "code",
   "execution_count": 20,
   "metadata": {},
   "outputs": [
    {
     "name": "stdout",
     "output_type": "stream",
     "text": [
      "Epoch 1/10000000000\n",
      "58/58 [==============================] - 14s 244ms/step - loss: 7.1558 - acc: 0.1266 - val_loss: 1.6856 - val_acc: 0.2737\n",
      "Epoch 2/10000000000\n",
      "58/58 [==============================] - 10s 173ms/step - loss: 1.4371 - acc: 0.4117 - val_loss: 0.8931 - val_acc: 0.6245\n",
      "Epoch 3/10000000000\n",
      "58/58 [==============================] - 10s 172ms/step - loss: 0.9631 - acc: 0.6280 - val_loss: 0.7095 - val_acc: 0.7066\n",
      "Epoch 4/10000000000\n",
      "58/58 [==============================] - 10s 173ms/step - loss: 0.8202 - acc: 0.6895 - val_loss: 0.6390 - val_acc: 0.7667\n",
      "Epoch 5/10000000000\n",
      "57/58 [============================>.] - ETA: 0s - loss: 0.7577 - acc: 0.7133\n",
      "Epoch 00005: val_acc improved from -inf to 0.77960, saving model to mnist-fashion.hdf5\n",
      "58/58 [==============================] - 29s 502ms/step - loss: 0.7582 - acc: 0.7130 - val_loss: 0.5839 - val_acc: 0.7796\n",
      "Epoch 6/10000000000\n",
      "58/58 [==============================] - 10s 176ms/step - loss: 0.7182 - acc: 0.7273 - val_loss: 0.5664 - val_acc: 0.7918\n",
      "Epoch 7/10000000000\n",
      "58/58 [==============================] - 10s 177ms/step - loss: 0.6785 - acc: 0.7416 - val_loss: 0.5703 - val_acc: 0.7947\n",
      "Epoch 8/10000000000\n",
      "58/58 [==============================] - 10s 176ms/step - loss: 0.6506 - acc: 0.7515 - val_loss: 0.5360 - val_acc: 0.7896\n",
      "Epoch 9/10000000000\n",
      "58/58 [==============================] - 10s 176ms/step - loss: 0.6326 - acc: 0.7585 - val_loss: 0.5125 - val_acc: 0.8033\n",
      "Epoch 10/10000000000\n",
      "57/58 [============================>.] - ETA: 0s - loss: 0.6143 - acc: 0.7647\n",
      "Epoch 00010: val_acc improved from 0.77960 to 0.80310, saving model to mnist-fashion.hdf5\n",
      "58/58 [==============================] - 28s 477ms/step - loss: 0.6140 - acc: 0.7647 - val_loss: 0.5044 - val_acc: 0.8031\n",
      "Epoch 11/10000000000\n",
      "58/58 [==============================] - 10s 177ms/step - loss: 0.5930 - acc: 0.7730 - val_loss: 0.4983 - val_acc: 0.8061\n",
      "Epoch 12/10000000000\n",
      "58/58 [==============================] - 10s 173ms/step - loss: 0.5883 - acc: 0.7750 - val_loss: 0.5011 - val_acc: 0.8030\n",
      "Epoch 13/10000000000\n",
      "58/58 [==============================] - 10s 175ms/step - loss: 0.5797 - acc: 0.7795 - val_loss: 0.4654 - val_acc: 0.8257\n",
      "Epoch 14/10000000000\n",
      "58/58 [==============================] - 10s 176ms/step - loss: 0.5645 - acc: 0.7825 - val_loss: 0.5093 - val_acc: 0.8032\n",
      "Epoch 15/10000000000\n",
      "57/58 [============================>.] - ETA: 0s - loss: 0.5554 - acc: 0.7883\n",
      "Epoch 00015: val_acc improved from 0.80310 to 0.83230, saving model to mnist-fashion.hdf5\n",
      "58/58 [==============================] - 28s 483ms/step - loss: 0.5559 - acc: 0.7882 - val_loss: 0.4380 - val_acc: 0.8323\n",
      "Epoch 16/10000000000\n",
      "58/58 [==============================] - 10s 175ms/step - loss: 0.5431 - acc: 0.7922 - val_loss: 0.4510 - val_acc: 0.8292\n",
      "Epoch 17/10000000000\n",
      "58/58 [==============================] - 10s 174ms/step - loss: 0.5519 - acc: 0.7875 - val_loss: 0.4466 - val_acc: 0.8269\n",
      "Epoch 18/10000000000\n",
      "58/58 [==============================] - 10s 174ms/step - loss: 0.5305 - acc: 0.7993 - val_loss: 0.4532 - val_acc: 0.8338\n",
      "Epoch 19/10000000000\n",
      "58/58 [==============================] - 10s 174ms/step - loss: 0.5218 - acc: 0.8016 - val_loss: 0.4227 - val_acc: 0.8402\n",
      "Epoch 20/10000000000\n",
      "57/58 [============================>.] - ETA: 0s - loss: 0.5163 - acc: 0.8055\n",
      "Epoch 00020: val_acc did not improve from 0.83230\n",
      "58/58 [==============================] - 10s 175ms/step - loss: 0.5157 - acc: 0.8058 - val_loss: 0.4554 - val_acc: 0.8298\n",
      "Epoch 21/10000000000\n",
      "58/58 [==============================] - 10s 177ms/step - loss: 0.5093 - acc: 0.8045 - val_loss: 0.4259 - val_acc: 0.8403\n",
      "Epoch 22/10000000000\n",
      "58/58 [==============================] - 10s 178ms/step - loss: 0.5074 - acc: 0.8069 - val_loss: 0.4100 - val_acc: 0.8449\n",
      "Epoch 23/10000000000\n",
      "58/58 [==============================] - 10s 173ms/step - loss: 0.5049 - acc: 0.8098 - val_loss: 0.4370 - val_acc: 0.8332\n",
      "Epoch 24/10000000000\n",
      "58/58 [==============================] - 10s 175ms/step - loss: 0.5040 - acc: 0.8062 - val_loss: 0.4275 - val_acc: 0.8324\n",
      "Epoch 25/10000000000\n",
      "57/58 [============================>.] - ETA: 0s - loss: 0.4946 - acc: 0.8118\n",
      "Epoch 00025: val_acc improved from 0.83230 to 0.84250, saving model to mnist-fashion.hdf5\n",
      "58/58 [==============================] - 29s 504ms/step - loss: 0.4941 - acc: 0.8118 - val_loss: 0.4156 - val_acc: 0.8425\n",
      "Epoch 26/10000000000\n",
      "58/58 [==============================] - 10s 174ms/step - loss: 0.4881 - acc: 0.8138 - val_loss: 0.4080 - val_acc: 0.8451\n",
      "Epoch 27/10000000000\n",
      "58/58 [==============================] - 10s 175ms/step - loss: 0.4825 - acc: 0.8152 - val_loss: 0.4009 - val_acc: 0.8483\n",
      "Epoch 28/10000000000\n",
      "58/58 [==============================] - 10s 174ms/step - loss: 0.4779 - acc: 0.8175 - val_loss: 0.4045 - val_acc: 0.8465\n",
      "Epoch 29/10000000000\n",
      "58/58 [==============================] - 10s 173ms/step - loss: 0.4733 - acc: 0.8177 - val_loss: 0.4197 - val_acc: 0.8346\n",
      "Epoch 30/10000000000\n",
      "57/58 [============================>.] - ETA: 0s - loss: 0.4810 - acc: 0.8147\n",
      "Epoch 00030: val_acc improved from 0.84250 to 0.84800, saving model to mnist-fashion.hdf5\n",
      "58/58 [==============================] - 28s 486ms/step - loss: 0.4807 - acc: 0.8148 - val_loss: 0.4065 - val_acc: 0.8480\n",
      "Epoch 31/10000000000\n",
      "58/58 [==============================] - 10s 178ms/step - loss: 0.4702 - acc: 0.8203 - val_loss: 0.3978 - val_acc: 0.8489\n",
      "Epoch 32/10000000000\n",
      "58/58 [==============================] - 10s 178ms/step - loss: 0.4647 - acc: 0.8225 - val_loss: 0.4318 - val_acc: 0.8385\n",
      "Epoch 33/10000000000\n",
      "58/58 [==============================] - 10s 176ms/step - loss: 0.4679 - acc: 0.8217 - val_loss: 0.3905 - val_acc: 0.8489\n",
      "Epoch 34/10000000000\n",
      "58/58 [==============================] - 10s 178ms/step - loss: 0.4538 - acc: 0.8261 - val_loss: 0.3817 - val_acc: 0.8567\n",
      "Epoch 35/10000000000\n",
      "57/58 [============================>.] - ETA: 0s - loss: 0.4542 - acc: 0.8270\n",
      "Epoch 00035: val_acc improved from 0.84800 to 0.85280, saving model to mnist-fashion.hdf5\n",
      "58/58 [==============================] - 28s 487ms/step - loss: 0.4541 - acc: 0.8270 - val_loss: 0.3795 - val_acc: 0.8528\n",
      "Epoch 36/10000000000\n",
      "58/58 [==============================] - 10s 174ms/step - loss: 0.4589 - acc: 0.8261 - val_loss: 0.4243 - val_acc: 0.8327\n",
      "Epoch 37/10000000000\n",
      "58/58 [==============================] - 10s 173ms/step - loss: 0.4555 - acc: 0.8261 - val_loss: 0.3768 - val_acc: 0.8541\n",
      "Epoch 38/10000000000\n",
      "58/58 [==============================] - 10s 172ms/step - loss: 0.4458 - acc: 0.8301 - val_loss: 0.3987 - val_acc: 0.8511\n",
      "Epoch 39/10000000000\n",
      "57/58 [============================>.] - ETA: 0s - loss: 0.4537 - acc: 0.8266\n",
      "Epoch 00039: ReduceLROnPlateau reducing learning rate to 0.0005000000237487257.\n",
      "58/58 [==============================] - 10s 177ms/step - loss: 0.4542 - acc: 0.8264 - val_loss: 0.3904 - val_acc: 0.8487\n",
      "Epoch 40/10000000000\n",
      "57/58 [============================>.] - ETA: 0s - loss: 0.4200 - acc: 0.8389\n",
      "Epoch 00040: val_acc improved from 0.85280 to 0.86500, saving model to mnist-fashion.hdf5\n",
      "58/58 [==============================] - 29s 493ms/step - loss: 0.4197 - acc: 0.8391 - val_loss: 0.3547 - val_acc: 0.8650\n",
      "Epoch 41/10000000000\n",
      "58/58 [==============================] - 10s 174ms/step - loss: 0.4118 - acc: 0.8406 - val_loss: 0.3582 - val_acc: 0.8649\n",
      "Epoch 42/10000000000\n",
      "58/58 [==============================] - 10s 175ms/step - loss: 0.4148 - acc: 0.8405 - val_loss: 0.3568 - val_acc: 0.8665\n",
      "Epoch 43/10000000000\n",
      "58/58 [==============================] - 10s 175ms/step - loss: 0.4052 - acc: 0.8447 - val_loss: 0.3450 - val_acc: 0.8676\n",
      "Epoch 44/10000000000\n",
      "58/58 [==============================] - 10s 175ms/step - loss: 0.4104 - acc: 0.8411 - val_loss: 0.3774 - val_acc: 0.8531\n",
      "Epoch 45/10000000000\n",
      "57/58 [============================>.] - ETA: 0s - loss: 0.4062 - acc: 0.8459\n",
      "Epoch 00045: val_acc improved from 0.86500 to 0.86750, saving model to mnist-fashion.hdf5\n",
      "58/58 [==============================] - 28s 487ms/step - loss: 0.4068 - acc: 0.8456 - val_loss: 0.3498 - val_acc: 0.8675\n",
      "Epoch 46/10000000000\n",
      "58/58 [==============================] - 10s 173ms/step - loss: 0.4036 - acc: 0.8436 - val_loss: 0.3444 - val_acc: 0.8660\n"
     ]
    },
    {
     "name": "stdout",
     "output_type": "stream",
     "text": [
      "Epoch 47/10000000000\n",
      "58/58 [==============================] - 10s 174ms/step - loss: 0.4022 - acc: 0.8462 - val_loss: 0.3495 - val_acc: 0.8695\n",
      "Epoch 48/10000000000\n",
      "58/58 [==============================] - 10s 176ms/step - loss: 0.4042 - acc: 0.8451 - val_loss: 0.3558 - val_acc: 0.8649\n",
      "Epoch 49/10000000000\n",
      "58/58 [==============================] - 10s 175ms/step - loss: 0.4010 - acc: 0.8465 - val_loss: 0.3456 - val_acc: 0.8674\n",
      "Epoch 50/10000000000\n",
      "57/58 [============================>.] - ETA: 0s - loss: 0.3951 - acc: 0.8484\n",
      "Epoch 00050: val_acc did not improve from 0.86750\n",
      "58/58 [==============================] - 10s 179ms/step - loss: 0.3945 - acc: 0.8486 - val_loss: 0.3539 - val_acc: 0.8617\n",
      "Epoch 51/10000000000\n",
      "58/58 [==============================] - 10s 179ms/step - loss: 0.3985 - acc: 0.8474 - val_loss: 0.3370 - val_acc: 0.8745\n",
      "Epoch 52/10000000000\n",
      "58/58 [==============================] - 10s 174ms/step - loss: 0.3953 - acc: 0.8490 - val_loss: 0.3550 - val_acc: 0.8647\n",
      "Epoch 53/10000000000\n",
      "58/58 [==============================] - 10s 175ms/step - loss: 0.3938 - acc: 0.8480 - val_loss: 0.3441 - val_acc: 0.8693\n",
      "Epoch 54/10000000000\n",
      "58/58 [==============================] - 10s 177ms/step - loss: 0.3998 - acc: 0.8458 - val_loss: 0.3417 - val_acc: 0.8710\n",
      "Epoch 55/10000000000\n",
      "57/58 [============================>.] - ETA: 0s - loss: 0.3893 - acc: 0.8516\n",
      "Epoch 00055: val_acc improved from 0.86750 to 0.87040, saving model to mnist-fashion.hdf5\n",
      "58/58 [==============================] - 27s 474ms/step - loss: 0.3892 - acc: 0.8517 - val_loss: 0.3344 - val_acc: 0.8704\n",
      "Epoch 56/10000000000\n",
      "57/58 [============================>.] - ETA: 0s - loss: 0.3957 - acc: 0.8487\n",
      "Epoch 00056: ReduceLROnPlateau reducing learning rate to 0.0002500000118743628.\n",
      "58/58 [==============================] - 10s 173ms/step - loss: 0.3950 - acc: 0.8491 - val_loss: 0.3432 - val_acc: 0.8706\n",
      "Epoch 57/10000000000\n",
      "58/58 [==============================] - 10s 177ms/step - loss: 0.3819 - acc: 0.8543 - val_loss: 0.3332 - val_acc: 0.8751\n",
      "Epoch 58/10000000000\n",
      "58/58 [==============================] - 10s 176ms/step - loss: 0.3804 - acc: 0.8542 - val_loss: 0.3225 - val_acc: 0.8770\n",
      "Epoch 59/10000000000\n",
      "58/58 [==============================] - 10s 176ms/step - loss: 0.3731 - acc: 0.8570 - val_loss: 0.3232 - val_acc: 0.8767\n",
      "Epoch 60/10000000000\n",
      "57/58 [============================>.] - ETA: 0s - loss: 0.3695 - acc: 0.8569\n",
      "Epoch 00060: val_acc improved from 0.87040 to 0.87470, saving model to mnist-fashion.hdf5\n",
      "58/58 [==============================] - 28s 484ms/step - loss: 0.3703 - acc: 0.8567 - val_loss: 0.3271 - val_acc: 0.8747\n",
      "Epoch 61/10000000000\n",
      "58/58 [==============================] - 10s 175ms/step - loss: 0.3707 - acc: 0.8589 - val_loss: 0.3230 - val_acc: 0.8754\n",
      "Epoch 62/10000000000\n",
      "58/58 [==============================] - 10s 177ms/step - loss: 0.3684 - acc: 0.8589 - val_loss: 0.3253 - val_acc: 0.8752\n",
      "Epoch 63/10000000000\n",
      "57/58 [============================>.] - ETA: 0s - loss: 0.3681 - acc: 0.8585\n",
      "Epoch 00063: ReduceLROnPlateau reducing learning rate to 0.0001250000059371814.\n",
      "58/58 [==============================] - 10s 173ms/step - loss: 0.3680 - acc: 0.8586 - val_loss: 0.3321 - val_acc: 0.8744\n",
      "Epoch 64/10000000000\n",
      "58/58 [==============================] - 10s 174ms/step - loss: 0.3619 - acc: 0.8617 - val_loss: 0.3143 - val_acc: 0.8789\n",
      "Epoch 65/10000000000\n",
      "57/58 [============================>.] - ETA: 0s - loss: 0.3589 - acc: 0.8636\n",
      "Epoch 00065: val_acc improved from 0.87470 to 0.88280, saving model to mnist-fashion.hdf5\n",
      "58/58 [==============================] - 29s 503ms/step - loss: 0.3591 - acc: 0.8634 - val_loss: 0.3119 - val_acc: 0.8828\n",
      "Epoch 66/10000000000\n",
      "58/58 [==============================] - 10s 173ms/step - loss: 0.3553 - acc: 0.8620 - val_loss: 0.3205 - val_acc: 0.8806\n",
      "Epoch 67/10000000000\n",
      "58/58 [==============================] - 10s 174ms/step - loss: 0.3556 - acc: 0.8636 - val_loss: 0.3131 - val_acc: 0.8826\n",
      "Epoch 68/10000000000\n",
      "58/58 [==============================] - 10s 174ms/step - loss: 0.3558 - acc: 0.8627 - val_loss: 0.3173 - val_acc: 0.8806\n",
      "Epoch 69/10000000000\n",
      "58/58 [==============================] - 10s 177ms/step - loss: 0.3547 - acc: 0.8646 - val_loss: 0.3083 - val_acc: 0.8836\n",
      "Epoch 70/10000000000\n",
      "57/58 [============================>.] - ETA: 0s - loss: 0.3513 - acc: 0.8663\n",
      "Epoch 00070: val_acc did not improve from 0.88280\n",
      "58/58 [==============================] - 10s 177ms/step - loss: 0.3510 - acc: 0.8663 - val_loss: 0.3151 - val_acc: 0.8811\n",
      "Epoch 71/10000000000\n",
      "58/58 [==============================] - 10s 176ms/step - loss: 0.3504 - acc: 0.8651 - val_loss: 0.3153 - val_acc: 0.8799\n",
      "Epoch 72/10000000000\n",
      "58/58 [==============================] - 10s 178ms/step - loss: 0.3544 - acc: 0.8630 - val_loss: 0.3178 - val_acc: 0.8773\n",
      "Epoch 73/10000000000\n",
      "58/58 [==============================] - 10s 175ms/step - loss: 0.3507 - acc: 0.8650 - val_loss: 0.3129 - val_acc: 0.8817\n",
      "Epoch 74/10000000000\n",
      "57/58 [============================>.] - ETA: 0s - loss: 0.3522 - acc: 0.8649\n",
      "Epoch 00074: ReduceLROnPlateau reducing learning rate to 6.25000029685907e-05.\n",
      "58/58 [==============================] - 10s 177ms/step - loss: 0.3527 - acc: 0.8646 - val_loss: 0.3138 - val_acc: 0.8798\n",
      "Epoch 75/10000000000\n",
      "57/58 [============================>.] - ETA: 0s - loss: 0.3488 - acc: 0.8648\n",
      "Epoch 00075: val_acc did not improve from 0.88280\n",
      "58/58 [==============================] - 10s 175ms/step - loss: 0.3489 - acc: 0.8647 - val_loss: 0.3091 - val_acc: 0.8825\n",
      "Epoch 76/10000000000\n",
      "58/58 [==============================] - 10s 175ms/step - loss: 0.3436 - acc: 0.8690 - val_loss: 0.3110 - val_acc: 0.8820\n",
      "Epoch 77/10000000000\n",
      "58/58 [==============================] - 10s 175ms/step - loss: 0.3422 - acc: 0.8681 - val_loss: 0.3060 - val_acc: 0.8832\n",
      "Epoch 78/10000000000\n",
      "58/58 [==============================] - 10s 177ms/step - loss: 0.3462 - acc: 0.8669 - val_loss: 0.3064 - val_acc: 0.8839\n",
      "Epoch 79/10000000000\n",
      "58/58 [==============================] - 10s 175ms/step - loss: 0.3425 - acc: 0.8675 - val_loss: 0.3056 - val_acc: 0.8844\n",
      "Epoch 80/10000000000\n",
      "57/58 [============================>.] - ETA: 0s - loss: 0.3475 - acc: 0.8651\n",
      "Epoch 00080: val_acc improved from 0.88280 to 0.88290, saving model to mnist-fashion.hdf5\n",
      "58/58 [==============================] - 29s 507ms/step - loss: 0.3477 - acc: 0.8649 - val_loss: 0.3115 - val_acc: 0.8829\n",
      "Epoch 81/10000000000\n",
      "58/58 [==============================] - 10s 175ms/step - loss: 0.3420 - acc: 0.8681 - val_loss: 0.3062 - val_acc: 0.8831\n",
      "Epoch 82/10000000000\n",
      "58/58 [==============================] - 10s 176ms/step - loss: 0.3467 - acc: 0.8669 - val_loss: 0.3060 - val_acc: 0.8857\n",
      "Epoch 83/10000000000\n",
      "58/58 [==============================] - 10s 176ms/step - loss: 0.3377 - acc: 0.8690 - val_loss: 0.3073 - val_acc: 0.8824\n",
      "Epoch 84/10000000000\n",
      "58/58 [==============================] - 10s 174ms/step - loss: 0.3417 - acc: 0.8688 - val_loss: 0.3083 - val_acc: 0.8831\n",
      "Epoch 85/10000000000\n",
      "57/58 [============================>.] - ETA: 0s - loss: 0.3392 - acc: 0.8706\n",
      "Epoch 00085: val_acc improved from 0.88290 to 0.88430, saving model to mnist-fashion.hdf5\n",
      "58/58 [==============================] - 28s 484ms/step - loss: 0.3398 - acc: 0.8704 - val_loss: 0.3076 - val_acc: 0.8843\n",
      "Epoch 86/10000000000\n",
      "58/58 [==============================] - 10s 175ms/step - loss: 0.3381 - acc: 0.8701 - val_loss: 0.3150 - val_acc: 0.8808\n",
      "Epoch 87/10000000000\n",
      "57/58 [============================>.] - ETA: 0s - loss: 0.3384 - acc: 0.8710\n",
      "Epoch 00087: ReduceLROnPlateau reducing learning rate to 3.125000148429535e-05.\n",
      "58/58 [==============================] - 10s 174ms/step - loss: 0.3386 - acc: 0.8712 - val_loss: 0.3058 - val_acc: 0.8822\n",
      "Epoch 88/10000000000\n",
      "58/58 [==============================] - 10s 174ms/step - loss: 0.3431 - acc: 0.8666 - val_loss: 0.3087 - val_acc: 0.8819\n",
      "Epoch 89/10000000000\n",
      "58/58 [==============================] - 10s 174ms/step - loss: 0.3364 - acc: 0.8710 - val_loss: 0.3044 - val_acc: 0.8822\n",
      "Epoch 90/10000000000\n",
      "57/58 [============================>.] - ETA: 0s - loss: 0.3360 - acc: 0.8696\n",
      "Epoch 00090: val_acc did not improve from 0.88430\n",
      "58/58 [==============================] - 10s 174ms/step - loss: 0.3361 - acc: 0.8698 - val_loss: 0.3086 - val_acc: 0.8839\n"
     ]
    },
    {
     "name": "stdout",
     "output_type": "stream",
     "text": [
      "Epoch 91/10000000000\n",
      "58/58 [==============================] - 10s 174ms/step - loss: 0.3353 - acc: 0.8723 - val_loss: 0.3056 - val_acc: 0.8848\n",
      "Epoch 92/10000000000\n",
      "57/58 [============================>.] - ETA: 0s - loss: 0.3346 - acc: 0.8722\n",
      "Epoch 00092: ReduceLROnPlateau reducing learning rate to 1.5625000742147677e-05.\n",
      "58/58 [==============================] - 10s 175ms/step - loss: 0.3350 - acc: 0.8720 - val_loss: 0.3042 - val_acc: 0.8853\n",
      "Epoch 93/10000000000\n",
      "58/58 [==============================] - 10s 176ms/step - loss: 0.3360 - acc: 0.8712 - val_loss: 0.3026 - val_acc: 0.8859\n",
      "Epoch 94/10000000000\n",
      "58/58 [==============================] - 10s 174ms/step - loss: 0.3349 - acc: 0.8710 - val_loss: 0.3029 - val_acc: 0.8848\n",
      "Epoch 95/10000000000\n",
      "57/58 [============================>.] - ETA: 0s - loss: 0.3326 - acc: 0.8713\n",
      "Epoch 00095: val_acc improved from 0.88430 to 0.88710, saving model to mnist-fashion.hdf5\n",
      "58/58 [==============================] - 29s 498ms/step - loss: 0.3323 - acc: 0.8715 - val_loss: 0.3011 - val_acc: 0.8871\n",
      "Epoch 96/10000000000\n",
      "58/58 [==============================] - 10s 178ms/step - loss: 0.3269 - acc: 0.8737 - val_loss: 0.3033 - val_acc: 0.8864\n",
      "Epoch 97/10000000000\n",
      "58/58 [==============================] - 10s 174ms/step - loss: 0.3338 - acc: 0.8727 - val_loss: 0.3030 - val_acc: 0.8862\n",
      "Epoch 98/10000000000\n",
      "58/58 [==============================] - 10s 176ms/step - loss: 0.3353 - acc: 0.8708 - val_loss: 0.3019 - val_acc: 0.8862\n",
      "Epoch 99/10000000000\n",
      "58/58 [==============================] - 10s 174ms/step - loss: 0.3287 - acc: 0.8740 - val_loss: 0.3046 - val_acc: 0.8845\n",
      "Epoch 100/10000000000\n",
      "57/58 [============================>.] - ETA: 0s - loss: 0.3345 - acc: 0.8702\n",
      "Epoch 00100: val_acc did not improve from 0.88710\n",
      "\n",
      "Epoch 00100: ReduceLROnPlateau reducing learning rate to 7.812500371073838e-06.\n",
      "58/58 [==============================] - 10s 175ms/step - loss: 0.3342 - acc: 0.8705 - val_loss: 0.3026 - val_acc: 0.8861\n",
      "Epoch 101/10000000000\n",
      "58/58 [==============================] - 10s 173ms/step - loss: 0.3317 - acc: 0.8733 - val_loss: 0.3034 - val_acc: 0.8849\n",
      "Epoch 102/10000000000\n",
      "58/58 [==============================] - 10s 175ms/step - loss: 0.3300 - acc: 0.8725 - val_loss: 0.3022 - val_acc: 0.8861\n",
      "Epoch 103/10000000000\n",
      "58/58 [==============================] - 10s 174ms/step - loss: 0.3312 - acc: 0.8732 - val_loss: 0.3015 - val_acc: 0.8858\n",
      "Epoch 104/10000000000\n",
      "58/58 [==============================] - 10s 174ms/step - loss: 0.3232 - acc: 0.8751 - val_loss: 0.3018 - val_acc: 0.8865\n",
      "Epoch 105/10000000000\n",
      "57/58 [============================>.] - ETA: 0s - loss: 0.3283 - acc: 0.8717\n",
      "Epoch 00105: val_acc did not improve from 0.88710\n",
      "\n",
      "Epoch 00105: ReduceLROnPlateau reducing learning rate to 3.906250185536919e-06.\n",
      "58/58 [==============================] - 10s 174ms/step - loss: 0.3283 - acc: 0.8717 - val_loss: 0.3022 - val_acc: 0.8861\n",
      "Epoch 106/10000000000\n",
      "58/58 [==============================] - 10s 179ms/step - loss: 0.3329 - acc: 0.8711 - val_loss: 0.3027 - val_acc: 0.8855\n",
      "Epoch 107/10000000000\n",
      "58/58 [==============================] - 10s 174ms/step - loss: 0.3331 - acc: 0.8737 - val_loss: 0.3027 - val_acc: 0.8856\n",
      "Epoch 108/10000000000\n",
      "58/58 [==============================] - 10s 176ms/step - loss: 0.3294 - acc: 0.8726 - val_loss: 0.3023 - val_acc: 0.8855\n",
      "Epoch 109/10000000000\n",
      "58/58 [==============================] - 10s 174ms/step - loss: 0.3310 - acc: 0.8722 - val_loss: 0.3023 - val_acc: 0.8862\n",
      "Epoch 110/10000000000\n",
      "57/58 [============================>.] - ETA: 0s - loss: 0.3322 - acc: 0.8740\n",
      "Epoch 00110: val_acc did not improve from 0.88710\n",
      "\n",
      "Epoch 00110: ReduceLROnPlateau reducing learning rate to 1.9531250927684596e-06.\n",
      "58/58 [==============================] - 10s 177ms/step - loss: 0.3319 - acc: 0.8740 - val_loss: 0.3020 - val_acc: 0.8865\n",
      "Epoch 111/10000000000\n",
      "58/58 [==============================] - 10s 176ms/step - loss: 0.3327 - acc: 0.8717 - val_loss: 0.3021 - val_acc: 0.8865\n",
      "Epoch 112/10000000000\n",
      "58/58 [==============================] - 10s 174ms/step - loss: 0.3328 - acc: 0.8717 - val_loss: 0.3016 - val_acc: 0.8863\n",
      "Epoch 113/10000000000\n",
      "58/58 [==============================] - 10s 173ms/step - loss: 0.3279 - acc: 0.8738 - val_loss: 0.3018 - val_acc: 0.8858\n",
      "Epoch 114/10000000000\n",
      "58/58 [==============================] - 10s 173ms/step - loss: 0.3334 - acc: 0.8729 - val_loss: 0.3013 - val_acc: 0.8855\n",
      "Epoch 115/10000000000\n",
      "57/58 [============================>.] - ETA: 0s - loss: 0.3293 - acc: 0.8734\n",
      "Epoch 00115: val_acc did not improve from 0.88710\n",
      "\n",
      "Epoch 00115: ReduceLROnPlateau reducing learning rate to 1e-06.\n",
      "58/58 [==============================] - 10s 173ms/step - loss: 0.3296 - acc: 0.8733 - val_loss: 0.3021 - val_acc: 0.8865\n",
      "Epoch 116/10000000000\n",
      "58/58 [==============================] - 10s 174ms/step - loss: 0.3300 - acc: 0.8735 - val_loss: 0.3015 - val_acc: 0.8861\n",
      "Epoch 117/10000000000\n",
      "58/58 [==============================] - 10s 175ms/step - loss: 0.3349 - acc: 0.8694 - val_loss: 0.3017 - val_acc: 0.8865\n",
      "Epoch 118/10000000000\n",
      "58/58 [==============================] - 10s 177ms/step - loss: 0.3319 - acc: 0.8727 - val_loss: 0.3017 - val_acc: 0.8864\n",
      "Epoch 119/10000000000\n",
      "58/58 [==============================] - 10s 175ms/step - loss: 0.3308 - acc: 0.8741 - val_loss: 0.3017 - val_acc: 0.8864\n",
      "Epoch 120/10000000000\n",
      "57/58 [============================>.] - ETA: 0s - loss: 0.3318 - acc: 0.8710\n",
      "Epoch 00120: val_acc did not improve from 0.88710\n",
      "58/58 [==============================] - 10s 176ms/step - loss: 0.3324 - acc: 0.8707 - val_loss: 0.3019 - val_acc: 0.8863\n",
      "Epoch 121/10000000000\n",
      "58/58 [==============================] - 10s 176ms/step - loss: 0.3279 - acc: 0.8750 - val_loss: 0.3020 - val_acc: 0.8860\n",
      "Epoch 122/10000000000\n",
      "58/58 [==============================] - 10s 176ms/step - loss: 0.3304 - acc: 0.8728 - val_loss: 0.3018 - val_acc: 0.8858\n",
      "Epoch 123/10000000000\n",
      "58/58 [==============================] - 10s 175ms/step - loss: 0.3277 - acc: 0.8734 - val_loss: 0.3020 - val_acc: 0.8861\n",
      "Epoch 124/10000000000\n",
      "58/58 [==============================] - 10s 176ms/step - loss: 0.3274 - acc: 0.8731 - val_loss: 0.3018 - val_acc: 0.8859\n",
      "Epoch 125/10000000000\n",
      "57/58 [============================>.] - ETA: 0s - loss: 0.3310 - acc: 0.8729\n",
      "Epoch 00125: val_acc did not improve from 0.88710\n",
      "Restoring model weights from the end of the best epoch.\n",
      "58/58 [==============================] - 10s 179ms/step - loss: 0.3312 - acc: 0.8727 - val_loss: 0.3019 - val_acc: 0.8863\n",
      "Epoch 00125: early stopping\n",
      "CPU times: user 28min 9s, sys: 3min 15s, total: 31min 24s\n",
      "Wall time: 25min 30s\n"
     ]
    }
   ],
   "source": [
    "%%time\n",
    "BATCH_SIZE = 1024\n",
    "EPOCHS = 10000000000\n",
    "history = model.fit(datagen.flow(train_images, train_labels, batch_size=BATCH_SIZE),\n",
    "                   epochs = EPOCHS,\n",
    "                   validation_data=(test_images, test_labels),\n",
    "                   steps_per_epoch=train_images.shape[0] // BATCH_SIZE,\n",
    "                   verbose=1,\n",
    "                   callbacks=[checkpoint, learning_rate_reduction, early_stopping_callback])"
   ]
  },
  {
   "cell_type": "code",
   "execution_count": 21,
   "metadata": {},
   "outputs": [
    {
     "data": {
      "image/png": "[encoded data removed]",
      "text/plain": [
       "<Figure size 432x288 with 1 Axes>"
      ]
     },
     "metadata": {
      "needs_background": "light"
     },
     "output_type": "display_data"
    },
    {
     "data": {
      "image/png": "[encoded data removed]",
      "text/plain": [
       "<Figure size 432x288 with 1 Axes>"
      ]
     },
     "metadata": {
      "needs_background": "light"
     },
     "output_type": "display_data"
    }
   ],
   "source": [
    "plt.figure()\n",
    "plt.plot(history.history['loss'], label='train loss')\n",
    "plt.plot(history.history['val_loss'], label='validation loss')\n",
    "plt.xlabel('Эпоха обучения')\n",
    "plt.ylabel('Значение функции потерь')\n",
    "plt.legend()\n",
    "\n",
    "plt.figure()\n",
    "plt.plot(history.history[acc_name], label='train accuracy')\n",
    "plt.plot(history.history[val_acc_name], label='validation accuracy')\n",
    "plt.xlabel('Эпоха обучения')\n",
    "plt.ylabel('Доля верных ответов')\n",
    "plt.legend()\n",
    "\n",
    "plt.show()"
   ]
  },
  {
   "cell_type": "code",
   "execution_count": 22,
   "metadata": {},
   "outputs": [
    {
     "name": "stdout",
     "output_type": "stream",
     "text": [
      "10000/10000 [==============================] - 2s 190us/sample - loss: 0.3017 - acc: 0.8871\n"
     ]
    },
    {
     "data": {
      "text/plain": [
       "[0.30168763961791994, 0.8871]"
      ]
     },
     "execution_count": 22,
     "metadata": {},
     "output_type": "execute_result"
    }
   ],
   "source": [
    "model.evaluate(test_images, test_labels)"
   ]
  },
  {
   "cell_type": "code",
   "execution_count": null,
   "metadata": {},
   "outputs": [],
   "source": []
  }
 ],
 "metadata": {
  "kernelspec": {
   "display_name": "Python 3",
   "language": "python",
   "name": "python3"
  },
  "language_info": {
   "codemirror_mode": {
    "name": "ipython",
    "version": 3
   },
   "file_extension": ".py",
   "mimetype": "text/x-python",
   "name": "python",
   "nbconvert_exporter": "python",
   "pygments_lexer": "ipython3",
   "version": "3.7.4"
  }
 },
 "nbformat": 4,
 "nbformat_minor": 4
}
